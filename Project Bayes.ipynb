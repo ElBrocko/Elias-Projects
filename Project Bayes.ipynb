{
 "cells": [
  {
   "cell_type": "code",
   "execution_count": 137,
   "metadata": {
    "collapsed": false
   },
   "outputs": [],
   "source": [
    "import pandas as pd\n",
    "import numpy as np\n",
    "import matplotlib \n",
    "%matplotlib inline\n",
    "GTD = pd.read_csv('globalterrorismdb_0616dist.csv')"
   ]
  },
  {
   "cell_type": "code",
   "execution_count": 138,
   "metadata": {
    "collapsed": false
   },
   "outputs": [
    {
     "data": {
      "text/html": [
       "<div>\n",
       "<table border=\"1\" class=\"dataframe\">\n",
       "  <thead>\n",
       "    <tr style=\"text-align: right;\">\n",
       "      <th></th>\n",
       "      <th>eventid</th>\n",
       "      <th>iyear</th>\n",
       "      <th>imonth</th>\n",
       "      <th>iday</th>\n",
       "      <th>approxdate</th>\n",
       "      <th>extended</th>\n",
       "      <th>resolution</th>\n",
       "      <th>country</th>\n",
       "      <th>country_txt</th>\n",
       "      <th>region</th>\n",
       "      <th>region_txt</th>\n",
       "      <th>provstate</th>\n",
       "      <th>city</th>\n",
       "      <th>latitude</th>\n",
       "      <th>longitude</th>\n",
       "      <th>specificity</th>\n",
       "      <th>vicinity</th>\n",
       "      <th>location</th>\n",
       "      <th>summary</th>\n",
       "      <th>crit1</th>\n",
       "      <th>crit2</th>\n",
       "      <th>crit3</th>\n",
       "      <th>doubtterr</th>\n",
       "      <th>alternative</th>\n",
       "      <th>alternative_txt</th>\n",
       "      <th>multiple</th>\n",
       "      <th>success</th>\n",
       "      <th>suicide</th>\n",
       "      <th>attacktype1</th>\n",
       "      <th>attacktype1_txt</th>\n",
       "      <th>attacktype2</th>\n",
       "      <th>attacktype2_txt</th>\n",
       "      <th>attacktype3</th>\n",
       "      <th>attacktype3_txt</th>\n",
       "      <th>targtype1</th>\n",
       "      <th>targtype1_txt</th>\n",
       "      <th>targsubtype1</th>\n",
       "      <th>targsubtype1_txt</th>\n",
       "      <th>corp1</th>\n",
       "      <th>target1</th>\n",
       "      <th>natlty1</th>\n",
       "      <th>natlty1_txt</th>\n",
       "      <th>targtype2</th>\n",
       "      <th>targtype2_txt</th>\n",
       "      <th>targsubtype2</th>\n",
       "      <th>targsubtype2_txt</th>\n",
       "      <th>corp2</th>\n",
       "      <th>target2</th>\n",
       "      <th>natlty2</th>\n",
       "      <th>natlty2_txt</th>\n",
       "      <th>targtype3</th>\n",
       "      <th>targtype3_txt</th>\n",
       "      <th>targsubtype3</th>\n",
       "      <th>targsubtype3_txt</th>\n",
       "      <th>corp3</th>\n",
       "      <th>target3</th>\n",
       "      <th>natlty3</th>\n",
       "      <th>natlty3_txt</th>\n",
       "      <th>gname</th>\n",
       "      <th>gsubname</th>\n",
       "      <th>gname2</th>\n",
       "      <th>gsubname2</th>\n",
       "      <th>gname3</th>\n",
       "      <th>ingroup</th>\n",
       "      <th>ingroup2</th>\n",
       "      <th>ingroup3</th>\n",
       "      <th>gsubname3</th>\n",
       "      <th>motive</th>\n",
       "      <th>guncertain1</th>\n",
       "      <th>guncertain2</th>\n",
       "      <th>guncertain3</th>\n",
       "      <th>nperps</th>\n",
       "      <th>nperpcap</th>\n",
       "      <th>claimed</th>\n",
       "      <th>claimmode</th>\n",
       "      <th>claimmode_txt</th>\n",
       "      <th>claim2</th>\n",
       "      <th>claimmode2</th>\n",
       "      <th>claimmode2_txt</th>\n",
       "      <th>claim3</th>\n",
       "      <th>claimmode3</th>\n",
       "      <th>claimmode3_txt</th>\n",
       "      <th>compclaim</th>\n",
       "      <th>weaptype1</th>\n",
       "      <th>weaptype1_txt</th>\n",
       "      <th>weapsubtype1</th>\n",
       "      <th>weapsubtype1_txt</th>\n",
       "      <th>weaptype2</th>\n",
       "      <th>weaptype2_txt</th>\n",
       "      <th>weapsubtype2</th>\n",
       "      <th>weapsubtype2_txt</th>\n",
       "      <th>weaptype3</th>\n",
       "      <th>weaptype3_txt</th>\n",
       "      <th>weapsubtype3</th>\n",
       "      <th>weapsubtype3_txt</th>\n",
       "      <th>weaptype4</th>\n",
       "      <th>weaptype4_txt</th>\n",
       "      <th>weapsubtype4</th>\n",
       "      <th>weapsubtype4_txt</th>\n",
       "      <th>weapdetail</th>\n",
       "      <th>nkill</th>\n",
       "      <th>nkillus</th>\n",
       "      <th>nkillter</th>\n",
       "      <th>nwound</th>\n",
       "      <th>nwoundus</th>\n",
       "      <th>nwoundte</th>\n",
       "      <th>property</th>\n",
       "      <th>propextent</th>\n",
       "      <th>propextent_txt</th>\n",
       "      <th>propvalue</th>\n",
       "      <th>propcomment</th>\n",
       "      <th>ishostkid</th>\n",
       "      <th>nhostkid</th>\n",
       "      <th>nhostkidus</th>\n",
       "      <th>nhours</th>\n",
       "      <th>ndays</th>\n",
       "      <th>divert</th>\n",
       "      <th>kidhijcountry</th>\n",
       "      <th>ransom</th>\n",
       "      <th>ransomamt</th>\n",
       "      <th>ransomamtus</th>\n",
       "      <th>ransompaid</th>\n",
       "      <th>ransompaidus</th>\n",
       "      <th>ransomnote</th>\n",
       "      <th>hostkidoutcome</th>\n",
       "      <th>hostkidoutcome_txt</th>\n",
       "      <th>nreleased</th>\n",
       "      <th>addnotes</th>\n",
       "      <th>scite1</th>\n",
       "      <th>scite2</th>\n",
       "      <th>scite3</th>\n",
       "      <th>dbsource</th>\n",
       "      <th>INT_LOG</th>\n",
       "      <th>INT_IDEO</th>\n",
       "      <th>INT_MISC</th>\n",
       "      <th>INT_ANY</th>\n",
       "      <th>related</th>\n",
       "    </tr>\n",
       "  </thead>\n",
       "  <tbody>\n",
       "  </tbody>\n",
       "</table>\n",
       "</div>"
      ],
      "text/plain": [
       "Empty DataFrame\n",
       "Columns: [eventid, iyear, imonth, iday, approxdate, extended, resolution, country, country_txt, region, region_txt, provstate, city, latitude, longitude, specificity, vicinity, location, summary, crit1, crit2, crit3, doubtterr, alternative, alternative_txt, multiple, success, suicide, attacktype1, attacktype1_txt, attacktype2, attacktype2_txt, attacktype3, attacktype3_txt, targtype1, targtype1_txt, targsubtype1, targsubtype1_txt, corp1, target1, natlty1, natlty1_txt, targtype2, targtype2_txt, targsubtype2, targsubtype2_txt, corp2, target2, natlty2, natlty2_txt, targtype3, targtype3_txt, targsubtype3, targsubtype3_txt, corp3, target3, natlty3, natlty3_txt, gname, gsubname, gname2, gsubname2, gname3, ingroup, ingroup2, ingroup3, gsubname3, motive, guncertain1, guncertain2, guncertain3, nperps, nperpcap, claimed, claimmode, claimmode_txt, claim2, claimmode2, claimmode2_txt, claim3, claimmode3, claimmode3_txt, compclaim, weaptype1, weaptype1_txt, weapsubtype1, weapsubtype1_txt, weaptype2, weaptype2_txt, weapsubtype2, weapsubtype2_txt, weaptype3, weaptype3_txt, weapsubtype3, weapsubtype3_txt, weaptype4, weaptype4_txt, weapsubtype4, weapsubtype4_txt, weapdetail, ...]\n",
       "Index: []"
      ]
     },
     "execution_count": 138,
     "metadata": {},
     "output_type": "execute_result"
    }
   ],
   "source": [
    "pd.options.display.max_columns = 999\n",
    "pd.options.display.max_rows = 500\n",
    "GTD.head(0)"
   ]
  },
  {
   "cell_type": "code",
   "execution_count": 139,
   "metadata": {
    "collapsed": false
   },
   "outputs": [],
   "source": [
    "Burma = GTD[GTD.country_txt == 'Myanmar']"
   ]
  },
  {
   "cell_type": "code",
   "execution_count": 140,
   "metadata": {
    "collapsed": true
   },
   "outputs": [],
   "source": [
    "def eda(dataframe):\n",
    "    print \"missing values \\n\", dataframe.isnull().sum() \n",
    "    print \"dataframe types \\n\", dataframe.dtypes \n",
    "    print \"dataframe describe \\n\", dataframe.describe() \n",
    "    for item in dataframe: \n",
    "        print item        \n",
    "        print dataframe[item].nunique() "
   ]
  },
  {
   "cell_type": "code",
   "execution_count": 141,
   "metadata": {
    "collapsed": false
   },
   "outputs": [
    {
     "data": {
      "text/plain": [
       "0    152001\n",
       "1      4771\n",
       "Name: suicide, dtype: int64"
      ]
     },
     "execution_count": 141,
     "metadata": {},
     "output_type": "execute_result"
    }
   ],
   "source": [
    "GTD.suicide.value_counts()"
   ]
  },
  {
   "cell_type": "code",
   "execution_count": 142,
   "metadata": {
    "collapsed": false
   },
   "outputs": [],
   "source": [
    "suicide_attack = GTD[GTD.suicide == 1]"
   ]
  },
  {
   "cell_type": "code",
   "execution_count": 143,
   "metadata": {
    "collapsed": false
   },
   "outputs": [
    {
     "data": {
      "text/plain": [
       "numpy.ndarray"
      ]
     },
     "execution_count": 143,
     "metadata": {},
     "output_type": "execute_result"
    }
   ],
   "source": [
    "regions = GTD.region_txt.unique()\n",
    "type(regions)"
   ]
  },
  {
   "cell_type": "code",
   "execution_count": 144,
   "metadata": {
    "collapsed": false
   },
   "outputs": [],
   "source": [
    "years = GTD.iyear.unique()"
   ]
  },
  {
   "cell_type": "code",
   "execution_count": null,
   "metadata": {
    "collapsed": false
   },
   "outputs": [],
   "source": []
  },
  {
   "cell_type": "code",
   "execution_count": 145,
   "metadata": {
    "collapsed": false
   },
   "outputs": [
    {
     "data": {
      "text/plain": [
       "array(['Central America & Caribbean', 'North America', 'Southeast Asia',\n",
       "       'Western Europe', 'East Asia', 'South America', 'Eastern Europe',\n",
       "       'Sub-Saharan Africa', 'Middle East & North Africa',\n",
       "       'Australasia & Oceania', 'South Asia', 'Central Asia'], dtype=object)"
      ]
     },
     "execution_count": 145,
     "metadata": {},
     "output_type": "execute_result"
    }
   ],
   "source": [
    "regions\n"
   ]
  },
  {
   "cell_type": "code",
   "execution_count": 146,
   "metadata": {
    "collapsed": false
   },
   "outputs": [],
   "source": [
    "CA = GTD[GTD.region_txt == 'Central America & Caribbean']\n",
    "NA = GTD[GTD.region_txt == 'North America']\n",
    "SEA = GTD[GTD.region_txt == 'Southeast Asia']\n",
    "WE = GTD[GTD.region_txt == 'Western Europe']\n",
    "EA = GTD[GTD.region_txt == 'East Asia']\n",
    "SA = GTD[GTD.region_txt == 'South America']\n",
    "SSA = GTD[GTD.region_txt == 'Sub-Saharan Africa']\n",
    "MENA = GTD[GTD.region_txt == 'Middle East & North Africa']\n",
    "AO = GTD[GTD.region_txt == 'Australasia & Oceania']\n",
    "SAS = GTD[GTD.region_txt == 'South Asia']\n",
    "CAS = GTD[GTD.region_txt == 'Central Asia']\n",
    "Region_DFs = [CA, NA, SEA, WE, EA, SA, SSA, MENA, AO, SAS, CAS]"
   ]
  },
  {
   "cell_type": "code",
   "execution_count": 147,
   "metadata": {
    "collapsed": false
   },
   "outputs": [
    {
     "data": {
      "text/plain": [
       "156772"
      ]
     },
     "execution_count": 147,
     "metadata": {},
     "output_type": "execute_result"
    }
   ],
   "source": [
    "sum(GTD.region_txt.value_counts())"
   ]
  },
  {
   "cell_type": "code",
   "execution_count": 148,
   "metadata": {
    "collapsed": false
   },
   "outputs": [
    {
     "data": {
      "text/plain": [
       "Middle East & North Africa     40422\n",
       "South Asia                     37841\n",
       "South America                  18628\n",
       "Western Europe                 16020\n",
       "Sub-Saharan Africa             13434\n",
       "Southeast Asia                 10360\n",
       "Central America & Caribbean    10337\n",
       "Eastern Europe                  4892\n",
       "North America                   3268\n",
       "East Asia                        786\n",
       "Central Asia                     538\n",
       "Australasia & Oceania            246\n",
       "Name: region_txt, dtype: int64"
      ]
     },
     "execution_count": 148,
     "metadata": {},
     "output_type": "execute_result"
    }
   ],
   "source": [
    "GTD.region_txt.value_counts()"
   ]
  },
  {
   "cell_type": "code",
   "execution_count": 149,
   "metadata": {
    "collapsed": false
   },
   "outputs": [
    {
     "data": {
      "text/plain": [
       "78263"
      ]
     },
     "execution_count": 149,
     "metadata": {},
     "output_type": "execute_result"
    }
   ],
   "source": [
    "40422+37841 #MENA & SAS account for nearly half of all terrorist attacks"
   ]
  },
  {
   "cell_type": "code",
   "execution_count": 150,
   "metadata": {
    "collapsed": false
   },
   "outputs": [
    {
     "data": {
      "image/png": "[encoded data removed]",
      "text/plain": [
       "<matplotlib.figure.Figure at 0x1419b6790>"
      ]
     },
     "metadata": {},
     "output_type": "display_data"
    }
   ],
   "source": [
    "for x in Region_DFs:\n",
    "    x.iyear.value_counts().sort_index().plot() #all terror attacks from 1970 through 2015"
   ]
  },
  {
   "cell_type": "code",
   "execution_count": 152,
   "metadata": {
    "collapsed": false
   },
   "outputs": [
    {
     "data": {
      "text/plain": [
       "<matplotlib.text.Text at 0x135730150>"
      ]
     },
     "execution_count": 152,
     "metadata": {},
     "output_type": "execute_result"
    },
    {
     "data": {
      "image/png": "[encoded data removed]",
      "text/plain": [
       "<matplotlib.figure.Figure at 0x141bd1690>"
      ]
     },
     "metadata": {},
     "output_type": "display_data"
    }
   ],
   "source": [
    "MENA.iyear.value_counts().sort_index(ascending=True).plot() #Middle East & North Africa\n",
    "plt.title(\"Middle East & North Africa\")\n",
    "plt.xlabel('year')\n",
    "plt.ylabel('# of Attacks')"
   ]
  },
  {
   "cell_type": "code",
   "execution_count": 153,
   "metadata": {
    "collapsed": false
   },
   "outputs": [
    {
     "data": {
      "text/plain": [
       "<matplotlib.text.Text at 0x1420aa510>"
      ]
     },
     "execution_count": 153,
     "metadata": {},
     "output_type": "execute_result"
    },
    {
     "data": {
      "image/png": "[encoded data removed]",
      "text/plain": [
       "<matplotlib.figure.Figure at 0x14207d510>"
      ]
     },
     "metadata": {},
     "output_type": "display_data"
    }
   ],
   "source": [
    "SAS.iyear.value_counts().sort_index(ascending=True).plot() #South Asia\n",
    "plt.title(\"South Asia\")\n",
    "plt.xlabel('year')\n",
    "plt.ylabel('# of Attacks')"
   ]
  },
  {
   "cell_type": "code",
   "execution_count": 17,
   "metadata": {
    "collapsed": true
   },
   "outputs": [],
   "source": [
    "High_Attack_Regions = [MENA, SAS]"
   ]
  },
  {
   "cell_type": "code",
   "execution_count": 18,
   "metadata": {
    "collapsed": false,
    "scrolled": true
   },
   "outputs": [
    {
     "data": {
      "image/png": "[encoded data removed]",
      "text/plain": [
       "<matplotlib.figure.Figure at 0x1238016d0>"
      ]
     },
     "metadata": {},
     "output_type": "display_data"
    }
   ],
   "source": [
    "for x in High_Attack_Regions:\n",
    "    x.iyear.value_counts().sort_index().plot()"
   ]
  },
  {
   "cell_type": "code",
   "execution_count": 19,
   "metadata": {
    "collapsed": false
   },
   "outputs": [
    {
     "name": "stdout",
     "output_type": "stream",
     "text": [
      "Bombing/Explosion                      24053\n",
      "Armed Assault                           8057\n",
      "Assassination                           3889\n",
      "Hostage Taking (Kidnapping)             2029\n",
      "Unknown                                 1133\n",
      "Facility/Infrastructure Attack           920\n",
      "Unarmed Assault                          144\n",
      "Hijacking                                118\n",
      "Hostage Taking (Barricade Incident)       79\n",
      "Name: attacktype1_txt, dtype: int64\n",
      "Bombing/Explosion                      18247\n",
      "Armed Assault                           9750\n",
      "Assassination                           3707\n",
      "Hostage Taking (Kidnapping)             2653\n",
      "Facility/Infrastructure Attack          1702\n",
      "Unknown                                 1385\n",
      "Unarmed Assault                          241\n",
      "Hijacking                                 83\n",
      "Hostage Taking (Barricade Incident)       73\n",
      "Name: attacktype1_txt, dtype: int64\n"
     ]
    }
   ],
   "source": [
    "for x in High_Attack_Regions:\n",
    "    print x.attacktype1_txt.value_counts()"
   ]
  },
  {
   "cell_type": "code",
   "execution_count": 20,
   "metadata": {
    "collapsed": false
   },
   "outputs": [
    {
     "name": "stdout",
     "output_type": "stream",
     "text": [
      "Iraq                        18770\n",
      "Turkey                       3557\n",
      "Algeria                      2720\n",
      "Yemen                        2598\n",
      "Lebanon                      2413\n",
      "Israel                       2085\n",
      "West Bank and Gaza Strip     1990\n",
      "Egypt                        1799\n",
      "Libya                        1643\n",
      "Syria                        1468\n",
      "Iran                          667\n",
      "Saudi Arabia                  193\n",
      "Bahrain                       182\n",
      "Jordan                         92\n",
      "Tunisia                        92\n",
      "Kuwait                         74\n",
      "Morocco                        36\n",
      "United Arab Emirates           22\n",
      "Qatar                           7\n",
      "North Yemen                     6\n",
      "Western Sahara                  5\n",
      "South Yemen                     2\n",
      "International                   1\n",
      "Name: country_txt, dtype: int64\n",
      "Pakistan       12768\n",
      "India           9940\n",
      "Afghanistan     9690\n",
      "Sri Lanka       2982\n",
      "Bangladesh      1513\n",
      "Nepal            923\n",
      "Maldives          17\n",
      "Bhutan             6\n",
      "Mauritius          2\n",
      "Name: country_txt, dtype: int64\n"
     ]
    }
   ],
   "source": [
    "for x in High_Attack_Regions:\n",
    "    print x.country_txt.value_counts()"
   ]
  },
  {
   "cell_type": "code",
   "execution_count": 178,
   "metadata": {
    "collapsed": true
   },
   "outputs": [],
   "source": [
    "Iraq = GTD[GTD.country_txt == 'Iraq']\n",
    "Syria = GTD[GTD.country_txt == 'Syria']"
   ]
  },
  {
   "cell_type": "code",
   "execution_count": 179,
   "metadata": {
    "collapsed": false
   },
   "outputs": [
    {
     "data": {
      "text/plain": [
       "<matplotlib.axes._subplots.AxesSubplot at 0x15b4f7190>"
      ]
     },
     "execution_count": 179,
     "metadata": {},
     "output_type": "execute_result"
    },
    {
     "data": {
      "image/png": "[encoded data removed]",
      "text/plain": [
       "<matplotlib.figure.Figure at 0x15b39c210>"
      ]
     },
     "metadata": {},
     "output_type": "display_data"
    }
   ],
   "source": [
    "Syria.iyear.value_counts().sort_index(ascending=True).plot()\n",
    "plt.title(\"Syria\")\n",
    "plt.xlabel('year')\n",
    "plt.ylabel('# of Attacks')"
   ]
  },
  {
   "cell_type": "code",
   "execution_count": 182,
   "metadata": {
    "collapsed": false
   },
   "outputs": [
    {
     "data": {
      "text/plain": [
       "(array([ -500.,     0.,   500.,  1000.,  1500.,  2000.,  2500.,  3000.,\n",
       "         3500.,  4000.,  4500.]), <a list of 11 Text yticklabel objects>)"
      ]
     },
     "execution_count": 182,
     "metadata": {},
     "output_type": "execute_result"
    },
    {
     "data": {
      "image/png": "[encoded data removed]",
      "text/plain": [
       "<matplotlib.figure.Figure at 0x15cc40a50>"
      ]
     },
     "metadata": {},
     "output_type": "display_data"
    }
   ],
   "source": [
    "Iraq.iyear.value_counts().sort_index(ascending=True).plot()\n",
    "Syria.iyear.value_counts().sort_index(ascending=True).plot()\n",
    "plt.title(\"Iraq & Syria\", color='w')\n",
    "plt.xlabel('year', color='w')\n",
    "plt.ylabel('# of Attacks', color='w')\n",
    "plt.xticks(color='w')\n",
    "plt.yticks(color='w')"
   ]
  },
  {
   "cell_type": "code",
   "execution_count": 24,
   "metadata": {
    "collapsed": false
   },
   "outputs": [
    {
     "data": {
      "text/plain": [
       "Karachi                          2530\n",
       "Peshawar                          737\n",
       "Quetta                            690\n",
       "Lahore                            209\n",
       "Bara                              155\n",
       "Jamrud                            154\n",
       "Unknown                           154\n",
       "Landi Kotal                       136\n",
       "Bannu                             135\n",
       "Islamabad                         131\n",
       "Mohmand district                  131\n",
       "Dera Bugti                        131\n",
       "Hangu                             126\n",
       "Bajaur district                   118\n",
       "Dera Ismail Khan                  112\n",
       "Miran Shah                        106\n",
       "Rawalpindi                        103\n",
       "Hyderabad                         102\n",
       "Sui                                94\n",
       "Kohat                              91\n",
       "Shabqadar                          89\n",
       "Khuzdar                            87\n",
       "Turbat                             83\n",
       "Orakzai district                   82\n",
       "Kurram district                    78\n",
       "Khyber district                    78\n",
       "Chaman                             69\n",
       "Pir Koh                            68\n",
       "Badaber                            66\n",
       "Mardan                             66\n",
       "Wana                               63\n",
       "Charsadda                          62\n",
       "Mingora                            61\n",
       "South Waziristan district          60\n",
       "Dera Murad Jamali                  59\n",
       "Safi                               58\n",
       "Hayatabad                          57\n",
       "Nowshera                           56\n",
       "Panjgur                            54\n",
       "Mattani                            51\n",
       "Swabi                              50\n",
       "Mir Ali                            49\n",
       "North Waziristan district          48\n",
       "Dera Bugti district                48\n",
       "Swat district                      48\n",
       "Hub                                47\n",
       "Khar                               44\n",
       "Mastung                            44\n",
       "Darra Adam Khel                    43\n",
       "Multan                             43\n",
       "Matta                              41\n",
       "Kohlu                              41\n",
       "Nasirabad                          39\n",
       "Panjgur district                   34\n",
       "Mach                               34\n",
       "Gwadar                             33\n",
       "Bannu district                     32\n",
       "Kabal                              31\n",
       "Sibi                               31\n",
       "Sohbatpur                          30\n",
       "Mastung district                   30\n",
       "Sariab                             30\n",
       "Kech district                      29\n",
       "Parachinar                         29\n",
       "Kalat                              29\n",
       "Pasni                              27\n",
       "Tank                               27\n",
       "Khuzdar district                   25\n",
       "Jaffarabad district                25\n",
       "Kuchlak                            24\n",
       "Gilgit                             24\n",
       "Datta Khel                         23\n",
       "Faisalabad                         23\n",
       "Mand                               23\n",
       "Dir                                23\n",
       "Buner district                     23\n",
       "Dera Allah Yar                     22\n",
       "Gujranwala                         22\n",
       "Sadda                              22\n",
       "Chattar                            21\n",
       "Larkana                            21\n",
       "Nasirabad district                 21\n",
       "Nushki                             21\n",
       "Khairpur                           20\n",
       "Tump                               20\n",
       "Loti                               20\n",
       "Tank district                      20\n",
       "Doaba                              19\n",
       "Charbagh                           19\n",
       "Hangu district                     18\n",
       "Jacobabad                          18\n",
       "Lakki Marwat                       18\n",
       "Kohlu district                     18\n",
       "Wadh                               17\n",
       "Salarzai                           17\n",
       "Sarband                            17\n",
       "Nawagai                            16\n",
       "Matta district                     16\n",
       "North Nazimabad                    16\n",
       "Nawabshah                          16\n",
       "Sukkur                             15\n",
       "Aka Khel district                  15\n",
       "Awaran district                    15\n",
       "Charsadda district                 15\n",
       "Bolan District                     14\n",
       "Halimzai                           14\n",
       "Jhang                              13\n",
       "Kharan district                    13\n",
       "Kalaya                             13\n",
       "Bahawalpur                         13\n",
       "Surab                              13\n",
       "Chamkani                           13\n",
       "Barkhan                            13\n",
       "Masho Khel                         13\n",
       "Gadap                              12\n",
       "Loralai                            12\n",
       "Thal                               12\n",
       "Dasht                              12\n",
       "Ghalanai                           12\n",
       "Ladha                              12\n",
       "Swabi district                     12\n",
       "Sargodha                           12\n",
       "Kotri                              11\n",
       "Sialkot                            11\n",
       "Jamshoro                           11\n",
       "Korangi                            11\n",
       "Kalat district                     11\n",
       "Mansehra                           11\n",
       "Sardheri                           10\n",
       "Jandola                            10\n",
       "Dalbandin                          10\n",
       "Miranshah                          10\n",
       "Mashkai                            10\n",
       "Pishin                             10\n",
       "Skaikhan                           10\n",
       "Karak                              10\n",
       "Khwazakhela                        10\n",
       "Akora Khattak                      10\n",
       "Kulachi                            10\n",
       "Sibi district                      10\n",
       "Gujrat                             10\n",
       "Khazana                            10\n",
       "Loralai district                    9\n",
       "Jani Khel                           9\n",
       "Kharan                              9\n",
       "Razmak                              9\n",
       "Hoshab                              9\n",
       "Shakai                              9\n",
       "Jafarabad district                  9\n",
       "Rakhni                              9\n",
       "Tirah district                      9\n",
       "Timergara                           9\n",
       "Ali Masjid                          9\n",
       "Chamarkand                          9\n",
       "Sui district                        9\n",
       "Awaran                              9\n",
       "Dera Ghazi Khan                     9\n",
       "Maidan                              9\n",
       "Kashmore                            9\n",
       "Khanewal                            8\n",
       "Bolan district                      8\n",
       "Mamond                              8\n",
       "Torkham                             8\n",
       "Spin Wam                            8\n",
       "Nushki district                     8\n",
       "Rahim Yar Khan                      8\n",
       "Aka Khel                            8\n",
       "Thul                                8\n",
       "Mathra                              8\n",
       "Dhadar                              8\n",
       "Sheikhan                            8\n",
       "Gomal                               8\n",
       "Dadu                                8\n",
       "Nuttal                              8\n",
       "Pabbi                               8\n",
       "Shangla district                    8\n",
       "Muzaffarabad                        8\n",
       "Tirah                               8\n",
       "Upper Dir district                  7\n",
       "Qambar                              7\n",
       "Bazidkhel                           7\n",
       "Buleda                              7\n",
       "Shikarpur                           7\n",
       "Okara                               7\n",
       "Attock                              7\n",
       "Kolpur                              7\n",
       "Machh                               7\n",
       "Uch                                 7\n",
       "hyderabad                           7\n",
       "Gandawa                             7\n",
       "Akkakhel                            7\n",
       "Damadola                            7\n",
       "Lakaro                              7\n",
       "karachi                             7\n",
       "Sur Kamar                           7\n",
       "Angoor Ada                          7\n",
       "Spin Qabar                          7\n",
       "Miryan                              6\n",
       "Shawal                              6\n",
       "Parom                               6\n",
       "Utmanzai                            6\n",
       "Mangochar                           6\n",
       "Ekka Ghund                          6\n",
       "Malam Jabba                         6\n",
       "Jafarabad                           6\n",
       "Baizai                              6\n",
       "Nari Baba                           6\n",
       "Lehri                               6\n",
       "Tasp                                6\n",
       "Akka Khel                           6\n",
       "Harnai                              6\n",
       "Ghulam Khan                         6\n",
       "Chamalang                           6\n",
       "Wazirabad                           6\n",
       "Mardan district                     6\n",
       "Serai Naurang                       6\n",
       "Nasir Bagh                          6\n",
       "Adezai                              6\n",
       "Kandh Kot                           6\n",
       "Sararogha                           6\n",
       "Muridke                             6\n",
       "Ghakhi                              6\n",
       "Sibi District                       6\n",
       "Shalobar                            6\n",
       "Wah                                 5\n",
       "Jamra                               5\n",
       "Naurang                             5\n",
       "Katlang                             5\n",
       "Yar Hussain                         5\n",
       "Gwadar district                     5\n",
       "Shagai                              5\n",
       "Zhob district                       5\n",
       "Chilas                              5\n",
       "Dargai                              5\n",
       "Peshwar                             5\n",
       "Ziarat                              5\n",
       "Barkhan district                    5\n",
       "Abi Gum                             5\n",
       "Mawand                              5\n",
       "Haripur                             5\n",
       "Boya                                5\n",
       "Bara district                       5\n",
       "Takht Bhai                          5\n",
       "Mandani                             5\n",
       "Kamra                               5\n",
       "Mian Mandi                          5\n",
       "Sambat                              5\n",
       "Ghundi                              5\n",
       "Shorkot                             5\n",
       "Marwar                              5\n",
       "                                 ... \n",
       "Urmar Payan                         1\n",
       "Hameedabad                          1\n",
       "Tankbar                             1\n",
       "Dasht district                      1\n",
       "Taj Abad                            1\n",
       "Shah Gai                            1\n",
       "Chaman Phatak                       1\n",
       "Khwazai                             1\n",
       "Thing                               1\n",
       "Ziarat Kale                         1\n",
       "Torghar district                    1\n",
       "Lehri district                      1\n",
       "Gojra                               1\n",
       "Waheedabad                          1\n",
       "Dera Allahyar Khan                  1\n",
       "Shantinagar                         1\n",
       "Imam Dherai                         1\n",
       "Sukkur District                     1\n",
       "Khost                               1\n",
       "Gara Ghokand                        1\n",
       "Shabqaadar                          1\n",
       "Samar Bagh                          1\n",
       "Akhorwal                            1\n",
       "Barwal Bandai                       1\n",
       "Bhashah                             1\n",
       "Wadi-e-Terah                        1\n",
       "Khairo Khel                         1\n",
       "Jalka Mela                          1\n",
       "Lawarki                             1\n",
       "Bani Gala                           1\n",
       "Dozan                               1\n",
       "Qilla Abdullah district             1\n",
       "Dallan                              1\n",
       "Malik Shaga                         1\n",
       "Kari Haider                         1\n",
       "Nana Sahib Ziarat                   1\n",
       "Pir Killay                          1\n",
       "Sarkai                              1\n",
       "Bin Shahi Man Kandao                1\n",
       "Katalung                            1\n",
       "Faqirabad Chowk                     1\n",
       "Wagan                               1\n",
       "Tabbai                              1\n",
       "Jaffarabad                          1\n",
       "Chargano Mela                       1\n",
       "Damghar Kalay                       1\n",
       "Stanzai                             1\n",
       "Babikhel                            1\n",
       "Goth Mohammad Ali                   1\n",
       "Shindano Dand                       1\n",
       "Joharabad                           1\n",
       "Shah Hassan Khel                    1\n",
       "Jamalabad                           1\n",
       "Naurakh                             1\n",
       "Chargo                              1\n",
       "Darbar-e-Hussainia Imambargah       1\n",
       "Ghanchi Para                        1\n",
       "Meelwat                             1\n",
       "Spin Tal                            1\n",
       "Maneri Bala                         1\n",
       "Darazinda                           1\n",
       "Sheikhurpura                        1\n",
       "Jori                                1\n",
       "Ghot Jani Khan                      1\n",
       "Nagotal                             1\n",
       "Serai                               1\n",
       "Tiyarza                             1\n",
       "Kaka Ziarat                         1\n",
       "Chenab Nagar                        1\n",
       "Qalat district                      1\n",
       "Sarokey                             1\n",
       "Samnabad                            1\n",
       "Mustafabad                          1\n",
       "Essai                               1\n",
       "Miangi Khel                         1\n",
       "Spin Dand                           1\n",
       "Umar kaley                          1\n",
       "Yara Khel                           1\n",
       "Bala Dhaka                          1\n",
       "Surani                              1\n",
       "Akona Khattak                       1\n",
       "Jora                                1\n",
       "Amanat                              1\n",
       "Paharkhel Pakka                     1\n",
       "Khwajarhi                           1\n",
       "Enjani Kali                         1\n",
       "Jalalpur Pirwala                    1\n",
       "Masho Gagar                         1\n",
       "Murtaza Goth                        1\n",
       "Kulachi district                    1\n",
       "Naushki District                    1\n",
       "Melo                                1\n",
       "Tor Ghar                            1\n",
       "Choli Bala                          1\n",
       "Shindi                              1\n",
       "Haji Zai                            1\n",
       "turbat                              1\n",
       "Qasim Bela                          1\n",
       "Mamash Khel                         1\n",
       "Kachi district                      1\n",
       "Darra Adamkhel                      1\n",
       "Sheran                              1\n",
       "Rawalkot district                   1\n",
       "Jallozai                            1\n",
       "Kamalloo                            1\n",
       "Mandeu                              1\n",
       "Astore district                     1\n",
       "Mandew                              1\n",
       "Haji Sher                           1\n",
       "Jazo Maidan                         1\n",
       "Budhni                              1\n",
       "Gandab                              1\n",
       "Goth Nasir Khan                     1\n",
       "Haji Abdulnabi Brohi                1\n",
       "Pushtakarah                         1\n",
       "Sachal Mirani                       1\n",
       "Urmara                              1\n",
       "Kuhurta                             1\n",
       "Siddiqabad                          1\n",
       "Gawadar                             1\n",
       "Nawya                               1\n",
       "Ankle                               1\n",
       "Raiwind                             1\n",
       "North Waziristan District           1\n",
       "Chughal Pura                        1\n",
       "Toor Toot                           1\n",
       "Karam Kot                           1\n",
       "Umarzi                              1\n",
       "Shahwala                            1\n",
       "Kalaa-e-Saeedan                     1\n",
       "Kachhi                              1\n",
       "Rakhni (District)                   1\n",
       "Kamal Khel                          1\n",
       "Haji Kot                            1\n",
       "Malikhel                            1\n",
       "Mashkel                             1\n",
       "Sheikhwal                           1\n",
       "Jani Chowk                          1\n",
       "Torwama                             1\n",
       "Mallow Wali                         1\n",
       "Tuk                                 1\n",
       "Jahangir Kalan                      1\n",
       "Bar Kanady                          1\n",
       "Ipi                                 1\n",
       "Khan Wahan                          1\n",
       "Sper Kot                            1\n",
       "Khat Kalay                          1\n",
       "Nawab Kot                           1\n",
       "Yousufabad                          1\n",
       "Besimag                             1\n",
       "Musaki                              1\n",
       "Larkana district                    1\n",
       "Bathoro                             1\n",
       "Spenki Raghzai                      1\n",
       "Nangrosa                            1\n",
       "Vahani                              1\n",
       "Banda Shiekh Ismail                 1\n",
       "Sakwar                              1\n",
       "Mand Soro                           1\n",
       "Sawan Nala                          1\n",
       "Zawa                                1\n",
       "Chadrarh                            1\n",
       "Tedi bazaar                         1\n",
       "Kandkot                             1\n",
       "Balichah                            1\n",
       "Sardarpur                           1\n",
       "Zara Mela                           1\n",
       "Metroville                          1\n",
       "Balambat                            1\n",
       "Maira                               1\n",
       "Pehdiyan                            1\n",
       "Nazar Banda                         1\n",
       "Qalat                               1\n",
       "Shiekh Utar                         1\n",
       "Dattakhel                           1\n",
       "Dorki                               1\n",
       "Thari                               1\n",
       "Essak Khel                          1\n",
       "Nokjo                               1\n",
       "Kharadar                            1\n",
       "Tang Khata                          1\n",
       "Panjur                              1\n",
       "Ghazi Baig                          1\n",
       "Takhta Baig                         1\n",
       "Chahtar                             1\n",
       "Takht bhai                          1\n",
       "Sheikhupura district                1\n",
       "Talwara Mughlain                    1\n",
       "Draban                              1\n",
       "Nala Tochi                          1\n",
       "Gokurth                             1\n",
       "Dasht Khadan                        1\n",
       "Babini                              1\n",
       "Manga                               1\n",
       "Khar district                       1\n",
       "Mayar                               1\n",
       "Peer Chhatta                        1\n",
       "Hasan Garhi                         1\n",
       "Nokju                               1\n",
       "Dag Qala                            1\n",
       "Sepoy                               1\n",
       "Tasp Nokabad                        1\n",
       "Mezai                               1\n",
       "Tarayza                             1\n",
       "Talai                               1\n",
       "Fazalabad                           1\n",
       "Sangolai                            1\n",
       "Kili Karbala                        1\n",
       "Dir Khan                            1\n",
       "Tani                                1\n",
       "Kot Adu                             1\n",
       "Inam Khoro Chinagi                  1\n",
       "Pir Wasan                           1\n",
       "Harban Nala                         1\n",
       "Sumanat                             1\n",
       "Darbar                              1\n",
       "Besham                              1\n",
       "Abakhel                             1\n",
       "Rukanpur                            1\n",
       "Maizai Addah                        1\n",
       "Marghazar                           1\n",
       "Derakai                             1\n",
       "Khojaki                             1\n",
       "Mian Gan                            1\n",
       "Drushkhela                          1\n",
       "Mirpur Khas district                1\n",
       "Zowag                               1\n",
       "Shamshatoo                          1\n",
       "Derai                               1\n",
       "Sagerh Mohallah                     1\n",
       "Wacha Jawara                        1\n",
       "Aba Khel                            1\n",
       "Barlas                              1\n",
       "Okara district                      1\n",
       "Khairpur Tameywala                  1\n",
       "Ibrahimzai                          1\n",
       "Ghouspur                            1\n",
       "Shalober                            1\n",
       "Qaimpur                             1\n",
       "Garhi Kapura                        1\n",
       "Saidgi Village                      1\n",
       "Sultankhel                          1\n",
       "Hari Chand                          1\n",
       "Satiana                             1\n",
       "Nawan Kaur                          1\n",
       "Nana Sahib                          1\n",
       "Hathala                             1\n",
       "Suntsar                             1\n",
       "Pushtakhara Bala                    1\n",
       "Badar                               1\n",
       "Name: city, dtype: int64"
      ]
     },
     "execution_count": 24,
     "metadata": {},
     "output_type": "execute_result"
    }
   ],
   "source": [
    "Pakistan.city.value_counts()"
   ]
  },
  {
   "cell_type": "code",
   "execution_count": 25,
   "metadata": {
    "collapsed": false
   },
   "outputs": [],
   "source": [
    "Karachi = Pakistan[Pakistan.city == 'Karachi']"
   ]
  },
  {
   "cell_type": "code",
   "execution_count": 26,
   "metadata": {
    "collapsed": false
   },
   "outputs": [
    {
     "data": {
      "text/plain": [
       "Baghdad                     6235\n",
       "Mosul                       1553\n",
       "Kirkuk                       852\n",
       "Baqubah                      698\n",
       "Fallujah                     494\n",
       "Unknown                      460\n",
       "Ramadi                       418\n",
       "Tikrit                       377\n",
       "Tuz Khormato                 263\n",
       "Samarra                      253\n",
       "Abu Ghraib                   239\n",
       "Baiji                        233\n",
       "Basra                        187\n",
       "Madain                       178\n",
       "Mahmudiyah                   165\n",
       "Muqdadiyah                   156\n",
       "Tarmiyah                     154\n",
       "Taji                         151\n",
       "Hillah                       136\n",
       "Karbala                      120\n",
       "Karma                        112\n",
       "Balad                        107\n",
       "Yusufiyah                    103\n",
       "Iskandariyah                  95\n",
       "Tal Afar                      89\n",
       "Sadiyah                       82\n",
       "Hawijah                       80\n",
       "Khalis                        76\n",
       "Shirqat                       75\n",
       "Latifiyah                     74\n",
       "Dujail                        70\n",
       "Balad Ruz                     67\n",
       "Kut                           64\n",
       "Jalula                        63\n",
       "Nahrawan                      62\n",
       "Saba al-Bor                   58\n",
       "Husseiniyah                   57\n",
       "Tuz Khormato district         55\n",
       "Hadithah                      55\n",
       "Buhriz                        53\n",
       "Hit                           53\n",
       "Al-Baghdadi                   53\n",
       "Yathrib                       50\n",
       "Riyadh                        50\n",
       "Hammam al-Alil                47\n",
       "Hawijah district              47\n",
       "Musayib                       44\n",
       "Azim                          43\n",
       "Diwaniyah                     43\n",
       "Nasiriyah                     42\n",
       "Shirqat district              42\n",
       "Baiji district                41\n",
       "Khanaqin                      40\n",
       "Qayyarah                      40\n",
       "Balad district                37\n",
       "Sulayman Beg                  36\n",
       "Mushahidah                    35\n",
       "Sinjar                        35\n",
       "Ishaqi                        35\n",
       "Amiriyat al-Fallujah          35\n",
       "Siniyah                       34\n",
       "Jalawlah                      34\n",
       "Adhaim                        34\n",
       "Dhuluiya                      34\n",
       "Khalidiyah                    33\n",
       "Qaim                          33\n",
       "Najaf                         32\n",
       "Qayarah                       32\n",
       "Sulaymaniyah                  30\n",
       "Musayyib                      29\n",
       "Saqlawiyah                    29\n",
       "Arbil                         29\n",
       "Zab                           29\n",
       "Tikrit district               27\n",
       "Taza Khurmatu                 27\n",
       "Jurf al-Sakhar                26\n",
       "Jurf al-Sakhr                 26\n",
       "Abu Ghraib district           26\n",
       "Amarah                        25\n",
       "Dibis                         24\n",
       "Zaidan                        24\n",
       "Abu Sayda                     23\n",
       "Samarra district              23\n",
       "Khan Bani Saad                23\n",
       "Mahawil                       22\n",
       "Mandali                       21\n",
       "Bashir                        21\n",
       "Hamamiyat                     20\n",
       "Rutba                         19\n",
       "Haswah                        19\n",
       "Shorah                        18\n",
       "Wajihiyah                     18\n",
       "Rashad                        17\n",
       "Sufiyah                       16\n",
       "Muqdadiyah district           16\n",
       "Jurf al-Sakhar district       16\n",
       "Ramadi district               16\n",
       "Kufa                          16\n",
       "Kanaan                        16\n",
       "Wihdah                        15\n",
       "Amriyat al-Fallujah           15\n",
       "Fallujah district             15\n",
       "Suwayrah                      15\n",
       "Jaarah                        14\n",
       "Hawr Rajab                    14\n",
       "Habbaniyah                    14\n",
       "Makhmur district              13\n",
       "Hajjaj                        13\n",
       "Dawr                          13\n",
       "Albu Hayat                    13\n",
       "Baaj                          13\n",
       "Bani Saad                     12\n",
       "Hit district                  12\n",
       "Albu Faraj                    12\n",
       "Dawr district                 12\n",
       "Tharthar                      12\n",
       "Jisr Diyala                   11\n",
       "Sejar                         11\n",
       "Rashidiyah                    11\n",
       "Daquq district                11\n",
       "Dowr                          11\n",
       "Zubair                        10\n",
       "Radwaniyah                    10\n",
       "Duluiyah                      10\n",
       "Rawah                         10\n",
       "Kirkuk district                9\n",
       "Anah                           9\n",
       "Mosul district                 9\n",
       "Saqlawiah                      9\n",
       "Rasheed                        9\n",
       "Jabella                        9\n",
       "Samawah                        9\n",
       "Dhuluiyah                      9\n",
       "Awjah                          9\n",
       "Aziziyah                       9\n",
       "Aythah                         8\n",
       "Duhok                          8\n",
       "Bashiqah                       8\n",
       "Jalawla                        8\n",
       "Kan'an                         8\n",
       "Dibis district                 8\n",
       "Albu Ajil                      8\n",
       "Al-Qarraj                      8\n",
       "Khalis district                8\n",
       "Sinjar district                8\n",
       "Albu Souda                     8\n",
       "Qara Tapa                      8\n",
       "Katun                          8\n",
       "Habhab                         8\n",
       "Alam                           8\n",
       "Barwana                        8\n",
       "Daquq                          8\n",
       "Al-Faris district              8\n",
       "Salman Bak                     8\n",
       "Amiriyah                       8\n",
       "Al-Fathah                      8\n",
       "Khanasah                       7\n",
       "Albu Sayf                      7\n",
       "Abu Saydah                     7\n",
       "Hadithah district              7\n",
       "Rawa                           7\n",
       "Rutbah                         7\n",
       "Zummar                         7\n",
       "Hafriyah                       7\n",
       "Qarah Tapah                    7\n",
       "Falahat                        7\n",
       "Husaybah                       7\n",
       "Badush                         7\n",
       "Zafaraniyah                    6\n",
       "Muhallabiyah                   6\n",
       "Mansuriyah                     6\n",
       "Al-Hussainiyah                 6\n",
       "Hadid                          6\n",
       "Balad Ruz district             6\n",
       "Mishahda                       6\n",
       "Bajawan                        6\n",
       "Awdat al-Shukr                 6\n",
       "Kubaysah                       6\n",
       "Nukhayb                        6\n",
       "Zaydan                         6\n",
       "Kuwayr                         6\n",
       "Imam Weis                      6\n",
       "Tal Afar district              5\n",
       "Abu Karmah                     5\n",
       "Hatra                          5\n",
       "Saslaj                         5\n",
       "Askari                         5\n",
       "Baquba                         5\n",
       "Hashimiyah                     5\n",
       "Rutba district                 5\n",
       "Shura                          5\n",
       "Sadiyah district               5\n",
       "Al-Kubayshat                   5\n",
       "Bartella                       5\n",
       "Jubah                          5\n",
       "Rabiah                         5\n",
       "Rabiaa                         5\n",
       "Ayn al-Jahesh                  5\n",
       "Sharawin                       5\n",
       "Dayum                          5\n",
       "Mahawil district               5\n",
       "Mukashafah                     5\n",
       "Al-Salam                       5\n",
       "Jazirah                        5\n",
       "Subayhat                       4\n",
       "Halabjah                       4\n",
       "Imam Ways                      4\n",
       "Bishkan                        4\n",
       "Qadisiyah                      4\n",
       "Mishada                        4\n",
       "Jablah                         4\n",
       "Riyadh district                4\n",
       "Mansouriyah                    4\n",
       "Bawiyah                        4\n",
       "Maftulah                       4\n",
       "Khanaqin district              4\n",
       "Al-Obeidi                      4\n",
       "Trebiel                        4\n",
       "Al-Wardiyah                    4\n",
       "Makhmour                       4\n",
       "Albu Diab                      4\n",
       "Bawi                           4\n",
       "Dakok                          4\n",
       "Safra                          4\n",
       "Al-Hadid                       4\n",
       "Kasik                          4\n",
       "Hamdaniyah district            4\n",
       "Karabilah                      4\n",
       "Sindij                         4\n",
       "Al-Jazirah                     4\n",
       "Dijlah                         4\n",
       "Amadiyah                       4\n",
       "Hibhib                         4\n",
       "Baaj district                  4\n",
       "Qurnah                         4\n",
       "Al-Hamamiyat                   4\n",
       "Mawali                         4\n",
       "Zakho                          4\n",
       "Al-Abbarah                     4\n",
       "Kharbat Aziz                   4\n",
       "Abu Al-Khasib                  4\n",
       "Amerli                         4\n",
       "Safrah                         3\n",
       "Zalayah                        3\n",
       "Ain al-Jahash                  3\n",
       "Muhawil                        3\n",
       "Fadiliyah                      3\n",
       "Mashahidah                     3\n",
       "Albu Tumah                     3\n",
       "Hadar                          3\n",
       "                            ... \n",
       "Bahaban                        1\n",
       "Sheik Said                     1\n",
       "Qarbat Albu Hayyat             1\n",
       "Hakim district                 1\n",
       "Al-Quds                        1\n",
       "Kharmar                        1\n",
       "Khalbishi                      1\n",
       "Al-Kissik area                 1\n",
       "Arij                           1\n",
       "Al-Sarai                       1\n",
       "Al-Ahnaf village               1\n",
       "Shahraban                      1\n",
       "Al-Bazul                       1\n",
       "Khazuka                        1\n",
       "Al-Dubat                       1\n",
       "Imam Waysid sub-district       1\n",
       "Hay al-Muasasah                1\n",
       "Al-Sadan                       1\n",
       "Bab Al-Moatham                 1\n",
       "Tawakul                        1\n",
       "Al-Halabisah                   1\n",
       "Al Dahouni                     1\n",
       "Khadra                         1\n",
       "Nafaq al-Sihah                 1\n",
       "Pirzeen                        1\n",
       "Kifri                          1\n",
       "Riyash                         1\n",
       "As Siniyah                     1\n",
       "Al-Halabsah                    1\n",
       "Majra az Zab                   1\n",
       "Al-Khabbaz                     1\n",
       "Al-Atshanah                    1\n",
       "Hajilar                        1\n",
       "Mishraq                        1\n",
       "Ismail Beg                     1\n",
       "Sus                            1\n",
       "Aheimir                        1\n",
       "Muhawil district               1\n",
       "Bani Ways                      1\n",
       "Bahbahan                       1\n",
       "Udheim                         1\n",
       "As-Saadiyah                    1\n",
       "Usifia                         1\n",
       "Qara Hanjir                    1\n",
       "An Nada                        1\n",
       "Sedira                         1\n",
       "Al-Asoud                       1\n",
       "Al-Wind                        1\n",
       "Al-Nasr wa Al-Salam            1\n",
       "Karaj                          1\n",
       "Kharar                         1\n",
       "Sudayrah                       1\n",
       "Ibrahim al Salih               1\n",
       "Borsah                         1\n",
       "Hamra                          1\n",
       "Jbara                          1\n",
       "Abu al Khaseeb                 1\n",
       "Mahalabiyah                    1\n",
       "Mishahida                      1\n",
       "Al-Shahabiyah                  1\n",
       "Tuz Khormatu district          1\n",
       "Faysaliyah                     1\n",
       "Sudur                          1\n",
       "As Sakran                      1\n",
       "Kerja                          1\n",
       "Hayy al-Jumhuri                1\n",
       "Al-Mishahida                   1\n",
       "Mohammadi                      1\n",
       "Jbala                          1\n",
       "Abdallah Jubarah               1\n",
       "Abu Mohammed                   1\n",
       "Albu Issa                      1\n",
       "Taji district                  1\n",
       "Huwaider                       1\n",
       "Hadr district                  1\n",
       "Tarqiah                        1\n",
       "Al-Zaidan                      1\n",
       "Jaghmakhah                     1\n",
       "Mashahda                       1\n",
       "Tarbil                         1\n",
       "Jbela                          1\n",
       "Asriyah                        1\n",
       "Jurf al-Naddaf                 1\n",
       "Edheim                         1\n",
       "Ad Diwaniyah                   1\n",
       "Al-Muaibidi                    1\n",
       "Dasim                          1\n",
       "Shakhat al Amiya               1\n",
       "Samaraa                        1\n",
       "Albu Nemir                     1\n",
       "Bay Hasan                      1\n",
       "Al-Asal                        1\n",
       "Khammar                        1\n",
       "Qariyah al-Asriyah             1\n",
       "Bartella district              1\n",
       "Asdirah                        1\n",
       "Ar Rashidiyah                  1\n",
       "Masud                          1\n",
       "Al-Nassaf                      1\n",
       "Khammas                        1\n",
       "Hay al-Asri                    1\n",
       "Seniyah                        1\n",
       "Hemrin                         1\n",
       "Abtha                          1\n",
       "Albu Ayfan                     1\n",
       "Einil-Jahash                   1\n",
       "Al-Nile                        1\n",
       "Albu Hawa                      1\n",
       "Rumaylah                       1\n",
       "Abu Al Khasib                  1\n",
       "Qawsiyat                       1\n",
       "Manazlah                       1\n",
       "Shamsiah                       1\n",
       "Nuran                          1\n",
       "Sayyid Gharib                  1\n",
       "Nayet al-Azim district         1\n",
       "Um al Dibaben                  1\n",
       "Kurtan                         1\n",
       "Al-Mazari                      1\n",
       "Hermat                         1\n",
       "Arab Ejbur                     1\n",
       "Duwayzat                       1\n",
       "Mahattah                       1\n",
       "Al-Dalouiya                    1\n",
       "Sadat al-Sudur                 1\n",
       "Hay al-Tin                     1\n",
       "Hatimiyah                      1\n",
       "Aski                           1\n",
       "Jabalah                        1\n",
       "Hamamiyah                      1\n",
       "Qara Durra                     1\n",
       "Makhmur                        1\n",
       "Al-Khasfah                     1\n",
       "Hawz                           1\n",
       "Hamza al-Gharbi                1\n",
       "Baldagh                        1\n",
       "Al-Rayash                      1\n",
       "Al-Muthanna                    1\n",
       "Qamesh Tapa                    1\n",
       "Saniya                         1\n",
       "Sor                            1\n",
       "Albu Ali                       1\n",
       "Al-Sadiyah                     1\n",
       "Degala                         1\n",
       "Abu Bushut                     1\n",
       "Al-Sayifiyah                   1\n",
       "Zubayr district                1\n",
       "Shajariyah                     1\n",
       "Al-Khabbaza                    1\n",
       "Zobaa                          1\n",
       "Zaganiah                       1\n",
       "Imam-Wais                      1\n",
       "Huriyah                        1\n",
       "Tal Asquf                      1\n",
       "Ranya                          1\n",
       "Sivi                           1\n",
       "Sayid Gharib                   1\n",
       "Al Jibour                      1\n",
       "Al-Sifr                        1\n",
       "Amiriyat Al-Fallujah           1\n",
       "Al-Husseiniya                  1\n",
       "Sharikat Tariq                 1\n",
       "Zarkush                        1\n",
       "Al-Kifl                        1\n",
       "Shakur                         1\n",
       "Babirah                        1\n",
       "Saduniyah                      1\n",
       "Al-Rakah                       1\n",
       "Tal Abass                      1\n",
       "Al-Andalus                     1\n",
       "Al-Mutasim                     1\n",
       "Ba'ashiqah                     1\n",
       "Albu Awsaj                     1\n",
       "Nimrud                         1\n",
       "Hadra                          1\n",
       "Had Akhdar                     1\n",
       "Rafaiyat                       1\n",
       "Latifiyah district             1\n",
       "Mkeshiefa                      1\n",
       "Vaddahiyeh                     1\n",
       "Hakurk                         1\n",
       "Huri                           1\n",
       "Faruq                          1\n",
       "Mayyah                         1\n",
       "Abbasi                         1\n",
       "Maaskarat                      1\n",
       "Abar Sadiyah                   1\n",
       "Amrali                         1\n",
       "Al-Zawiyah                     1\n",
       "Tib district                   1\n",
       "Kabba                          1\n",
       "Abu Darujah                    1\n",
       "Albu-Sulaibi                   1\n",
       "Al-Waleed district             1\n",
       "Ghudayb                        1\n",
       "Al-Hawija                      1\n",
       "Jamahir                        1\n",
       "Qani                           1\n",
       "Maryam Beg                     1\n",
       "Albu Slaib                     1\n",
       "Al-Arish                       1\n",
       "Hay al-Iskan                   1\n",
       "Sherween                       1\n",
       "Sultan Abdullah                1\n",
       "Tal Ubtta                      1\n",
       "Huran                          1\n",
       "Dujaila district               1\n",
       "Al-Murrah                      1\n",
       "Imam Weis district             1\n",
       "Albu Aythah                    1\n",
       "Udhaim                         1\n",
       "Wadi al-Naft                   1\n",
       "Arab Jasim                     1\n",
       "Miyahi                         1\n",
       "Akre                           1\n",
       "Haliwah                        1\n",
       "Sdira                          1\n",
       "Nibaie                         1\n",
       "Yankajah                       1\n",
       "Al-Sgelh                       1\n",
       "Mutaybijah                     1\n",
       "Tawakol                        1\n",
       "Darawish al-Arabi              1\n",
       "Al-Zubeidiyah                  1\n",
       "Qalat Dizah                    1\n",
       "Al-Mahus                       1\n",
       "Bodjh                          1\n",
       "Kalar                          1\n",
       "Tal al-Dhahab                  1\n",
       "Mukayshafah                    1\n",
       "Al-Qadisiyah                   1\n",
       "Nujanah                        1\n",
       "Kabarah                        1\n",
       "Albu Ubayd                     1\n",
       "Janjali                        1\n",
       "Albu Jahash                    1\n",
       "Husayn                         1\n",
       "Alhmeirah                      1\n",
       "Musalla                        1\n",
       "Al-Hitawiyin                   1\n",
       "Al-Gatoun area                 1\n",
       "Dojamah                        1\n",
       "Injana                         1\n",
       "Nero-Soto                      1\n",
       "Ajbalah                        1\n",
       "Chamchamal                     1\n",
       "An Nahrawan                    1\n",
       "Al-Dulaya                      1\n",
       "Daoud al-Hassan                1\n",
       "Dilja                          1\n",
       "Name: city, dtype: int64"
      ]
     },
     "execution_count": 26,
     "metadata": {},
     "output_type": "execute_result"
    }
   ],
   "source": [
    "Iraq.city.value_counts()"
   ]
  },
  {
   "cell_type": "code",
   "execution_count": 162,
   "metadata": {
    "collapsed": false
   },
   "outputs": [],
   "source": [
    "Baghdad = Iraq[Iraq.city == 'Baghdad']\n",
    "Mosul = Iraq[Iraq.city == 'Mosul']\n",
    "Kirkuk = Iraq[Iraq.city == 'Kirkuk']\n",
    "Baqubah = Iraq[Iraq.city == 'Baqubah']\n",
    "Fallujah = Iraq[Iraq.city == 'Fallujah']"
   ]
  },
  {
   "cell_type": "code",
   "execution_count": 176,
   "metadata": {
    "collapsed": false
   },
   "outputs": [
    {
     "data": {
      "text/plain": [
       "(array([ -200.,     0.,   200.,   400.,   600.,   800.,  1000.,  1200.]),\n",
       " <a list of 8 Text yticklabel objects>)"
      ]
     },
     "execution_count": 176,
     "metadata": {},
     "output_type": "execute_result"
    },
    {
     "data": {
      "image/png": "[encoded data removed]",
      "text/plain": [
       "<matplotlib.figure.Figure at 0x15b3903d0>"
      ]
     },
     "metadata": {},
     "output_type": "display_data"
    }
   ],
   "source": [
    "Baghdad.iyear.value_counts().sort_index(ascending=True).plot()\n",
    "plt.title(\"Baghdad\", color='w')\n",
    "plt.xlabel('year', color='w')\n",
    "plt.ylabel('# of Attacks', color='w')\n",
    "plt.xticks(color='w')\n",
    "plt.yticks(color='w')"
   ]
  },
  {
   "cell_type": "code",
   "execution_count": 164,
   "metadata": {
    "collapsed": false
   },
   "outputs": [
    {
     "data": {
      "text/plain": [
       "<matplotlib.axes._subplots.AxesSubplot at 0x14b6e2d50>"
      ]
     },
     "execution_count": 164,
     "metadata": {},
     "output_type": "execute_result"
    },
    {
     "data": {
      "image/png": "[encoded data removed]",
      "text/plain": [
       "<matplotlib.figure.Figure at 0x14b70d0d0>"
      ]
     },
     "metadata": {},
     "output_type": "display_data"
    }
   ],
   "source": [
    "Mosul.iyear.value_counts().sort_index(ascending=True).plot()"
   ]
  },
  {
   "cell_type": "code",
   "execution_count": 167,
   "metadata": {
    "collapsed": false,
    "scrolled": true
   },
   "outputs": [
    {
     "data": {
      "text/plain": [
       "<matplotlib.axes._subplots.AxesSubplot at 0x15a6ea390>"
      ]
     },
     "execution_count": 167,
     "metadata": {},
     "output_type": "execute_result"
    },
    {
     "data": {
      "image/png": "[encoded data removed]",
      "text/plain": [
       "<matplotlib.figure.Figure at 0x15a6f4a10>"
      ]
     },
     "metadata": {},
     "output_type": "display_data"
    }
   ],
   "source": [
    "Baqubah.iyear.value_counts().sort_index(ascending=True).plot()"
   ]
  },
  {
   "cell_type": "code",
   "execution_count": 168,
   "metadata": {
    "collapsed": false,
    "scrolled": true
   },
   "outputs": [
    {
     "data": {
      "text/plain": [
       "<matplotlib.axes._subplots.AxesSubplot at 0x15a835290>"
      ]
     },
     "execution_count": 168,
     "metadata": {},
     "output_type": "execute_result"
    },
    {
     "data": {
      "image/png": "[encoded data removed]",
      "text/plain": [
       "<matplotlib.figure.Figure at 0x15a840e10>"
      ]
     },
     "metadata": {},
     "output_type": "display_data"
    }
   ],
   "source": [
    "Fallujah.iyear.value_counts().sort_index(ascending=True).plot()"
   ]
  },
  {
   "cell_type": "code",
   "execution_count": 166,
   "metadata": {
    "collapsed": false
   },
   "outputs": [
    {
     "data": {
      "text/plain": [
       "<matplotlib.axes._subplots.AxesSubplot at 0x14f0cda10>"
      ]
     },
     "execution_count": 166,
     "metadata": {},
     "output_type": "execute_result"
    },
    {
     "data": {
      "image/png": "[encoded data removed]",
      "text/plain": [
       "<matplotlib.figure.Figure at 0x14f0ed2d0>"
      ]
     },
     "metadata": {},
     "output_type": "display_data"
    }
   ],
   "source": [
    "Kirkuk.iyear.value_counts().sort_index(ascending=True).plot()"
   ]
  },
  {
   "cell_type": "code",
   "execution_count": 29,
   "metadata": {
    "collapsed": false
   },
   "outputs": [
    {
     "data": {
      "text/plain": [
       "<matplotlib.axes._subplots.AxesSubplot at 0x125a6dc50>"
      ]
     },
     "execution_count": 29,
     "metadata": {},
     "output_type": "execute_result"
    },
    {
     "data": {
      "image/png": "[encoded data removed]",
      "text/plain": [
       "<matplotlib.figure.Figure at 0x125f22650>"
      ]
     },
     "metadata": {},
     "output_type": "display_data"
    }
   ],
   "source": [
    "Karachi.iyear.value_counts().sort_index(ascending=True).plot()"
   ]
  },
  {
   "cell_type": "code",
   "execution_count": 30,
   "metadata": {
    "collapsed": false
   },
   "outputs": [
    {
     "data": {
      "text/plain": [
       "Unknown                                       2061\n",
       "Muttahida Qami Movement (MQM)                  165\n",
       "Tehrik-i-Taliban Pakistan (TTP)                124\n",
       "Gunmen                                          21\n",
       "Lashkar-e-Jhangvi                               16\n",
       "Tehrik-e-Khilafat                               13\n",
       "Balochistan Liberation United Front (BLUF)       9\n",
       "Sindhu Desh Liberation Army (SDLA)               9\n",
       "Mohajir National Movement                        9\n",
       "Sunni Muslims                                    8\n",
       "Muslim Militants                                 7\n",
       "Sipah-e-Sahaba/Pakistan (SSP)                    7\n",
       "Jundallah                                        5\n",
       "Iraqi Mujahideen                                 4\n",
       "Sipah-I-Mohammed                                 4\n",
       "Youths                                           4\n",
       "Pakistani People's Party (PPP)                   3\n",
       "Al-Qaida in the Indian Subcontinent              3\n",
       "Khorasan Chapter of the Islamic State            3\n",
       "Baloch Waja Liberation Army (BWLA)               3\n",
       "Al-Zulfikar                                      3\n",
       "Unaffiliated Individual(s)                       3\n",
       "Baloch Liberation Army (BLA)                     3\n",
       "Sindh Liberation Front                           2\n",
       "Miscreants                                       2\n",
       "Baba Ladla Gang                                  2\n",
       "Shiite Muslims                                   2\n",
       "Baloch Republican Army (BRA)                     2\n",
       "Jamaat-E-Islami (India/Pakistan)                 2\n",
       "Palestinians                                     2\n",
       "U/I Snipers                                      1\n",
       "Lashkar-e-Omar                                   1\n",
       "Muslim United Army (MUA)                         1\n",
       "Halqa-e-Mehsud                                   1\n",
       "Harkatul Jihad-e-Islami                          1\n",
       "Baloch Nationalists                              1\n",
       "Al-Qaida                                         1\n",
       "Drug-Related Terrorists                          1\n",
       "Bandits                                          1\n",
       "Former Student Hostel                            1\n",
       "Muslim Demonstrators                             1\n",
       "Ahle Sunnat Wal Jamaat (ASWJ-Pakistan)           1\n",
       "Dacoits                                          1\n",
       "Iranian dissident group                          1\n",
       "Jaish-e-Mohammad (JeM)                           1\n",
       "Soldiers of Truth                                1\n",
       "Punjabi Taliban                                  1\n",
       "Harakat ul-Mujahidin Al-Almi                     1\n",
       "Iranians                                         1\n",
       "People's Amn Committee                           1\n",
       "Abu Nidal Organization (ANO)                     1\n",
       "Other                                            1\n",
       "Muslim Guerrillas                                1\n",
       "Jammu and Kashmir Liberation Front               1\n",
       "Opposition Group                                 1\n",
       "Haqqani Network                                  1\n",
       "Aghwar \"Fire War\" Group                          1\n",
       "Jamaat-ul-Ahrar                                  1\n",
       "Lashkar-e-Balochistan                            1\n",
       "Name: gname, dtype: int64"
      ]
     },
     "execution_count": 30,
     "metadata": {},
     "output_type": "execute_result"
    }
   ],
   "source": [
    "Karachi.gname.value_counts()"
   ]
  },
  {
   "cell_type": "code",
   "execution_count": 31,
   "metadata": {
    "collapsed": false
   },
   "outputs": [
    {
     "data": {
      "text/plain": [
       "Unknown                                                   5333\n",
       "Islamic State of Iraq and the Levant (ISIL)                473\n",
       "Al-Qaida in Iraq                                           214\n",
       "Islamic State of Iraq (ISI)                                 57\n",
       "Tawhid and Jihad                                            22\n",
       "Gunmen                                                      15\n",
       "Other                                                       14\n",
       "Mahdi Army                                                  12\n",
       "Muslim Fundamentalists                                       7\n",
       "Asa'ib Ahl al-Haqq                                           7\n",
       "Supreme Council for Islamic Revolution in Iraq (SCIRI)       6\n",
       "Islamic Army in Iraq (al-Jaish al-Islami fi al-Iraq)         6\n",
       "Mukhtar Army                                                 4\n",
       "Ansar al-Islam                                               4\n",
       "Ansar al-Sunna                                               4\n",
       "Mujahedeen Shura Council                                     4\n",
       "Mujahedin-e Khalq (MEK)                                      3\n",
       "Military Council of the Tribal Revolutionaries (MCTR)        3\n",
       "Mujahedeen Corps in Iraq                                     2\n",
       "Iraq's Jihadist Leagues                                      2\n",
       "Iraqi Islamic Vanguards for National Salvation (IIVNS)       2\n",
       "Islamic Mujahidin                                            2\n",
       "Supreme Command for Jihad and Liberation                     2\n",
       "Shield of Islam Brigade                                      2\n",
       "Iraqi National Congress (INC)                                2\n",
       "Iraqi Mujahideen                                             2\n",
       "Salafi Abu-Bakr al-Siddiq Army                               2\n",
       "1920 Revolution Brigades                                     2\n",
       "Abu Hafs al-Masri Brigades                                   1\n",
       "Sunni Muslims                                                1\n",
       "Khalid ibn Walid Brigade                                     1\n",
       "Shiite Muslims                                               1\n",
       "National Accord Movement                                     1\n",
       "Islamic Companies                                            1\n",
       "Armed Vanguards of a Second Mohammed Army                    1\n",
       "Al Zawahiri Loyalists                                        1\n",
       "Al-Naqshabandiya Army                                        1\n",
       "Jaish-e-Mohammad (Iraq)                                      1\n",
       "Al-Da'wah Party                                              1\n",
       "Jaish al-Ta'ifa al-Mansura                                   1\n",
       "Jund al-Sahabah Group                                        1\n",
       "Abu Nidal Organization (ANO)                                 1\n",
       "Martyr Abu Ja'far Group                                      1\n",
       "Banner of Islam                                              1\n",
       "Death Squad (Iraq)                                           1\n",
       "Mujahedeen Army                                              1\n",
       "Ansar al-Jihad                                               1\n",
       "Iraqis                                                       1\n",
       "Badr Brigades                                                1\n",
       "Omar Bin Khattab Group                                       1\n",
       "Revenge Brigade                                              1\n",
       "Just Punishment Brigades                                     1\n",
       "Unaffiliated Individual(s)                                   1\n",
       "Militants                                                    1\n",
       "Sunni Supporters                                             1\n",
       "Name: gname, dtype: int64"
      ]
     },
     "execution_count": 31,
     "metadata": {},
     "output_type": "execute_result"
    }
   ],
   "source": [
    "Baghdad.gname.value_counts()"
   ]
  },
  {
   "cell_type": "code",
   "execution_count": 32,
   "metadata": {
    "collapsed": false
   },
   "outputs": [
    {
     "data": {
      "text/plain": [
       "Armed Assault                          1174\n",
       "Assassination                           580\n",
       "Bombing/Explosion                       558\n",
       "Hostage Taking (Kidnapping)              68\n",
       "Unarmed Assault                          54\n",
       "Unknown                                  52\n",
       "Facility/Infrastructure Attack           40\n",
       "Hijacking                                 3\n",
       "Hostage Taking (Barricade Incident)       1\n",
       "Name: attacktype1_txt, dtype: int64"
      ]
     },
     "execution_count": 32,
     "metadata": {},
     "output_type": "execute_result"
    }
   ],
   "source": [
    "Karachi.attacktype1_txt.value_counts() #armed assault, assasination, bombing"
   ]
  },
  {
   "cell_type": "code",
   "execution_count": 33,
   "metadata": {
    "collapsed": false
   },
   "outputs": [
    {
     "data": {
      "text/plain": [
       "Bombing/Explosion                      5088\n",
       "Armed Assault                           643\n",
       "Assassination                           345\n",
       "Hostage Taking (Kidnapping)             123\n",
       "Unknown                                  18\n",
       "Facility/Infrastructure Attack           13\n",
       "Hostage Taking (Barricade Incident)       3\n",
       "Unarmed Assault                           1\n",
       "Hijacking                                 1\n",
       "Name: attacktype1_txt, dtype: int64"
      ]
     },
     "execution_count": 33,
     "metadata": {},
     "output_type": "execute_result"
    }
   ],
   "source": [
    "Baghdad.attacktype1_txt.value_counts() #bombing, armed assault, assasination"
   ]
  },
  {
   "cell_type": "code",
   "execution_count": 34,
   "metadata": {
    "collapsed": true
   },
   "outputs": [],
   "source": [
    "Armed = GTD[GTD.attacktype1_txt == 'Armed Assault']\n",
    "Bombing = GTD[GTD.attacktype1_txt == 'Bombing/Explosion']\n",
    "Assassination = GTD[GTD.attacktype1_txt == 'Assassination']"
   ]
  },
  {
   "cell_type": "code",
   "execution_count": 35,
   "metadata": {
    "collapsed": false
   },
   "outputs": [
    {
     "data": {
      "text/plain": [
       "<matplotlib.axes._subplots.AxesSubplot at 0x125ffbdd0>"
      ]
     },
     "execution_count": 35,
     "metadata": {},
     "output_type": "execute_result"
    },
    {
     "data": {
      "image/png": "[encoded data removed]",
      "text/plain": [
       "<matplotlib.figure.Figure at 0x1264976d0>"
      ]
     },
     "metadata": {},
     "output_type": "display_data"
    }
   ],
   "source": [
    "Armed.iyear.value_counts().sort_index(ascending = True).plot()"
   ]
  },
  {
   "cell_type": "code",
   "execution_count": 36,
   "metadata": {
    "collapsed": false
   },
   "outputs": [
    {
     "data": {
      "text/plain": [
       "<matplotlib.axes._subplots.AxesSubplot at 0x127bb2dd0>"
      ]
     },
     "execution_count": 36,
     "metadata": {},
     "output_type": "execute_result"
    },
    {
     "data": {
      "image/png": "[encoded data removed]",
      "text/plain": [
       "<matplotlib.figure.Figure at 0x127bd3a50>"
      ]
     },
     "metadata": {},
     "output_type": "display_data"
    }
   ],
   "source": [
    "Bombing.iyear.value_counts().sort_index(ascending = True).plot()"
   ]
  },
  {
   "cell_type": "code",
   "execution_count": 37,
   "metadata": {
    "collapsed": false
   },
   "outputs": [
    {
     "data": {
      "text/plain": [
       "<matplotlib.axes._subplots.AxesSubplot at 0x123812d90>"
      ]
     },
     "execution_count": 37,
     "metadata": {},
     "output_type": "execute_result"
    },
    {
     "data": {
      "image/png": "[encoded data removed]",
      "text/plain": [
       "<matplotlib.figure.Figure at 0x1237d9510>"
      ]
     },
     "metadata": {},
     "output_type": "display_data"
    }
   ],
   "source": [
    "Assassination.iyear.value_counts().sort_index(ascending = True).plot()"
   ]
  },
  {
   "cell_type": "code",
   "execution_count": 38,
   "metadata": {
    "collapsed": false
   },
   "outputs": [
    {
     "data": {
      "text/plain": [
       "United Kingdom                      1642\n",
       "Colombia                            1328\n",
       "Pakistan                            1256\n",
       "Iraq                                1181\n",
       "India                               1104\n",
       "Peru                                 999\n",
       "Philippines                          840\n",
       "Afghanistan                          712\n",
       "Spain                                599\n",
       "Guatemala                            510\n",
       "El Salvador                          449\n",
       "South Africa                         439\n",
       "Sri Lanka                            437\n",
       "Algeria                              431\n",
       "Turkey                               412\n",
       "Lebanon                              341\n",
       "Yemen                                337\n",
       "West Bank and Gaza Strip             329\n",
       "Somalia                              289\n",
       "Russia                               245\n",
       "Egypt                                235\n",
       "Italy                                205\n",
       "Israel                               188\n",
       "Libya                                166\n",
       "France                               161\n",
       "Thailand                             152\n",
       "Bangladesh                           152\n",
       "Nigeria                              148\n",
       "Argentina                            132\n",
       "Iran                                 127\n",
       "United States                        126\n",
       "Nicaragua                            109\n",
       "Mexico                                96\n",
       "Chile                                 87\n",
       "Syria                                 82\n",
       "Greece                                71\n",
       "Haiti                                 70\n",
       "Brazil                                64\n",
       "Honduras                              62\n",
       "Tajikistan                            58\n",
       "West Germany (FRG)                    44\n",
       "Nepal                                 42\n",
       "Uganda                                40\n",
       "Ireland                               37\n",
       "Kenya                                 36\n",
       "Indonesia                             33\n",
       "Burundi                               31\n",
       "Ukraine                               30\n",
       "Angola                                28\n",
       "Rwanda                                27\n",
       "Bolivia                               27\n",
       "Georgia                               27\n",
       "Zimbabwe                              26\n",
       "Germany                               26\n",
       "Cyprus                                26\n",
       "Ecuador                               26\n",
       "Cambodia                              25\n",
       "Sudan                                 23\n",
       "Japan                                 22\n",
       "Belgium                               21\n",
       "Yugoslavia                            21\n",
       "Namibia                               21\n",
       "Portugal                              18\n",
       "Jordan                                17\n",
       "Rhodesia                              16\n",
       "Mozambique                            15\n",
       "Papua New Guinea                      15\n",
       "Venezuela                             15\n",
       "Albania                               14\n",
       "China                                 13\n",
       "Switzerland                           13\n",
       "Paraguay                              13\n",
       "Netherlands                           13\n",
       "Kuwait                                12\n",
       "Panama                                11\n",
       "Bosnia-Herzegovina                    11\n",
       "Azerbaijan                            11\n",
       "Central African Republic              11\n",
       "Jamaica                               11\n",
       "Ethiopia                              11\n",
       "Taiwan                                10\n",
       "Senegal                                9\n",
       "Democratic Republic of the Congo       9\n",
       "Kosovo                                 9\n",
       "Bulgaria                               9\n",
       "Canada                                 9\n",
       "Austria                                9\n",
       "Uruguay                                9\n",
       "South Sudan                            9\n",
       "Guinea                                 8\n",
       "New Caledonia                          8\n",
       "Dominican Republic                     8\n",
       "Tunisia                                8\n",
       "Sweden                                 7\n",
       "Togo                                   7\n",
       "Soviet Union                           7\n",
       "Zambia                                 7\n",
       "Trinidad and Tobago                    7\n",
       "Mali                                   6\n",
       "Armenia                                6\n",
       "Morocco                                6\n",
       "Kazakhstan                             5\n",
       "Myanmar                                5\n",
       "Tanzania                               5\n",
       "United Arab Emirates                   5\n",
       "Cameroon                               5\n",
       "Poland                                 5\n",
       "North Yemen                            4\n",
       "Malta                                  4\n",
       "Guadeloupe                             4\n",
       "Costa Rica                             4\n",
       "Saudi Arabia                           4\n",
       "East Germany (GDR)                     4\n",
       "Burkina Faso                           4\n",
       "Sierra Leone                           4\n",
       "Guyana                                 4\n",
       "Australia                              4\n",
       "Macau                                  4\n",
       "Zaire                                  4\n",
       "Bahrain                                3\n",
       "Grenada                                3\n",
       "Kyrgyzstan                             3\n",
       "Liberia                                3\n",
       "Hong Kong                              3\n",
       "Madagascar                             3\n",
       "Hungary                                3\n",
       "Guinea-Bissau                          3\n",
       "South Korea                            3\n",
       "Niger                                  3\n",
       "Solomon Islands                        2\n",
       "Denmark                                2\n",
       "Romania                                2\n",
       "Maldives                               2\n",
       "Luxembourg                             2\n",
       "Belize                                 2\n",
       "Czechoslovakia                         2\n",
       "Mauritius                              2\n",
       "Ghana                                  2\n",
       "Serbia-Montenegro                      2\n",
       "Ivory Coast                            2\n",
       "Gabon                                  2\n",
       "Croatia                                2\n",
       "Lesotho                                2\n",
       "Czech Republic                         2\n",
       "Cuba                                   1\n",
       "Norway                                 1\n",
       "Brunei                                 1\n",
       "Macedonia                              1\n",
       "Swaziland                              1\n",
       "Comoros                                1\n",
       "Estonia                                1\n",
       "Mauritania                             1\n",
       "Turkmenistan                           1\n",
       "Fiji                                   1\n",
       "Gambia                                 1\n",
       "Malaysia                               1\n",
       "Bahamas                                1\n",
       "Uzbekistan                             1\n",
       "Qatar                                  1\n",
       "Chad                                   1\n",
       "Latvia                                 1\n",
       "Vatican City                           1\n",
       "Botswana                               1\n",
       "Lithuania                              1\n",
       "Equatorial Guinea                      1\n",
       "Slovenia                               1\n",
       "Singapore                              1\n",
       "Serbia                                 1\n",
       "Vietnam                                1\n",
       "Suriname                               1\n",
       "East Timor                             1\n",
       "Name: country_txt, dtype: int64"
      ]
     },
     "execution_count": 38,
     "metadata": {},
     "output_type": "execute_result"
    }
   ],
   "source": [
    "Assassination.country_txt.value_counts() #interesting UK & Colombia have the most assassinations over all years"
   ]
  },
  {
   "cell_type": "code",
   "execution_count": 39,
   "metadata": {
    "collapsed": false
   },
   "outputs": [
    {
     "data": {
      "text/plain": [
       "1970      651\n",
       "1971      470\n",
       "1972      494\n",
       "1973      473\n",
       "1974      580\n",
       "1975      740\n",
       "1976      923\n",
       "1977     1319\n",
       "1978     1526\n",
       "1979     2661\n",
       "1980     2663\n",
       "1981     2585\n",
       "1982     2545\n",
       "1983     2870\n",
       "1984     3494\n",
       "1985     2915\n",
       "1986     2860\n",
       "1987     3184\n",
       "1988     3721\n",
       "1989     4322\n",
       "1990     3887\n",
       "1991     4683\n",
       "1992     5073\n",
       "1994     3458\n",
       "1995     3081\n",
       "1996     3056\n",
       "1997     3200\n",
       "1998      933\n",
       "1999     1396\n",
       "2000     1813\n",
       "2001     1908\n",
       "2002     1332\n",
       "2003     1262\n",
       "2004     1161\n",
       "2005     2011\n",
       "2006     2751\n",
       "2007     3241\n",
       "2008     4787\n",
       "2009     4721\n",
       "2010     4821\n",
       "2011     5067\n",
       "2012     8498\n",
       "2013    11990\n",
       "2014    16840\n",
       "2015    14806\n",
       "Name: iyear, dtype: int64"
      ]
     },
     "execution_count": 39,
     "metadata": {},
     "output_type": "execute_result"
    }
   ],
   "source": [
    "GTD.iyear.value_counts().sort_index(ascending=True)"
   ]
  },
  {
   "cell_type": "code",
   "execution_count": 2,
   "metadata": {
    "collapsed": false
   },
   "outputs": [],
   "source": [
    "nineteenseventy = GTD[GTD.iyear == 1970]\n",
    "nineteenseventyone = GTD[GTD.iyear == 1971]\n",
    "nineteenseventytwo = GTD[GTD.iyear == 1972]\n",
    "nineteenseventythree = GTD[GTD.iyear == 1973]\n",
    "nineteenseventyfour = GTD[GTD.iyear == 1974]\n",
    "nineteenseventyfive = GTD[GTD.iyear == 1975]\n",
    "nineteenseventysix = GTD[GTD.iyear == 1976]\n",
    "nineteenseventyseven = GTD[GTD.iyear == 1977]\n",
    "nineteenseventyeight = GTD[GTD.iyear == 1978]\n",
    "nineteenseventynine = GTD[GTD.iyear == 1979]\n",
    "nineteeneighty = GTD[GTD.iyear == 1980]\n",
    "nineteeneightyone = GTD[GTD.iyear == 1981]\n",
    "nineteeneightytwo = GTD[GTD.iyear == 1982]\n",
    "nineteeneightythree = GTD[GTD.iyear == 1983]\n",
    "nineteeneightyfour = GTD[GTD.iyear == 1984]\n",
    "nineteeneightyfive = GTD[GTD.iyear == 1985]\n",
    "nineteeneightysix = GTD[GTD.iyear == 1986]\n",
    "nineteeneightyseven = GTD[GTD.iyear == 1987]\n",
    "nineteeneightyeight = GTD[GTD.iyear == 1988]\n",
    "nineteeneightynine = GTD[GTD.iyear == 1989]\n",
    "nineteenninety = GTD[GTD.iyear == 1990]\n",
    "nineteenninetyone = GTD[GTD.iyear == 1991]\n",
    "nineteenninetytwo = GTD[GTD.iyear == 1992]\n",
    "nineteenninetythree = GTD[GTD.iyear == 1993]\n",
    "nineteenninetyfour = GTD[GTD.iyear == 1994]\n",
    "nineteenninetyfive = GTD[GTD.iyear == 1995]\n",
    "nineteenninetysix = GTD[GTD.iyear == 1996]\n",
    "nineteenninetyseven = GTD[GTD.iyear == 1997]\n",
    "nineteenninetyeight = GTD[GTD.iyear == 1998]\n",
    "nineteenninetynine = GTD[GTD.iyear == 1999]\n",
    "twothousand = GTD[GTD.iyear == 2000]\n",
    "twothousandone = GTD[GTD.iyear == 2001]\n",
    "twothousandtwo = GTD[GTD.iyear == 2002]\n",
    "twothousandthree = GTD[GTD.iyear == 2003]\n",
    "twothousandfour = GTD[GTD.iyear == 2004]\n",
    "twothousandfive = GTD[GTD.iyear == 2005]\n",
    "twothousandsix = GTD[GTD.iyear == 2006]\n",
    "twothousandseven = GTD[GTD.iyear == 2007]\n",
    "twothousandeight = GTD[GTD.iyear == 2008]\n",
    "twothousandnine = GTD[GTD.iyear == 2009]\n",
    "twothousandten = GTD[GTD.iyear == 2010]\n",
    "twothousandeleven = GTD[GTD.iyear == 2011]\n",
    "twothousandtwelve = GTD[GTD.iyear == 2012]\n",
    "twothousandthirteen = GTD[GTD.iyear == 2013]\n",
    "twothousandfourteen = GTD[GTD.iyear == 2014]\n",
    "twothousandfifteen = GTD[GTD.iyear == 2015]"
   ]
  },
  {
   "cell_type": "code",
   "execution_count": 125,
   "metadata": {
    "collapsed": false
   },
   "outputs": [],
   "source": [
    "\n",
    "def attacks_by_year(dataframe):\n",
    "    all_attacks = dataframe.groupby('attacktype1_txt').country_txt.value_counts().sum()\n",
    "    print \"countries: \", all_attacks #all countries\n",
    "    print \"bombings per country: \", dataframe[dataframe.attacktype1_txt == 'Bombing/Explosion'].country_txt.value_counts()\n",
    "    print \"bombings: \", len(dataframe[dataframe.attacktype1_txt == 'Bombing/Explosion'])\n",
    "    print \"total attacks: \", len(dataframe.attacktype1_txt.value_counts())"
   ]
  },
  {
   "cell_type": "code",
   "execution_count": 42,
   "metadata": {
    "collapsed": false
   },
   "outputs": [
    {
     "name": "stdout",
     "output_type": "stream",
     "text": [
      "Iraq : Series([], Name: country_txt, dtype: int64)\n",
      "Syria : Series([], Name: country_txt, dtype: int64)\n",
      "countries:  United States         468\n",
      "Uruguay                33\n",
      "Argentina              21\n",
      "West Germany (FRG)     20\n",
      "East Germany (GDR)     12\n",
      "Turkey                 12\n",
      "United Kingdom         12\n",
      "Philippines            10\n",
      "Jordan                  9\n",
      "Brazil                  6\n",
      "Name: country_txt, dtype: int64\n",
      "assasinations:  22\n",
      "armed assaults:  61\n",
      "bombings:  333\n"
     ]
    }
   ],
   "source": [
    "attacks_by_year(nineteenseventy) #left-wing militants, black nationalists, student radicals (Vietnam war)"
   ]
  },
  {
   "cell_type": "code",
   "execution_count": 43,
   "metadata": {
    "collapsed": false
   },
   "outputs": [
    {
     "name": "stdout",
     "output_type": "stream",
     "text": [
      "Iraq : Series([], Name: country_txt, dtype: int64)\n",
      "Syria : Series([], Name: country_txt, dtype: int64)\n",
      "countries:  United States         247\n",
      "United Kingdom         81\n",
      "Turkey                 35\n",
      "Spain                  22\n",
      "West Germany (FRG)     13\n",
      "Iran                   11\n",
      "Uruguay                 8\n",
      "Argentina               7\n",
      "Jordan                  5\n",
      "Philippines             4\n",
      "Name: country_txt, dtype: int64\n",
      "assasinations:  70\n",
      "armed assaults:  44\n",
      "bombings:  238\n"
     ]
    }
   ],
   "source": [
    "attacks_by_year(nineteenseventyone) #Vietnam war protestors, Irish Civil War, Turkish military coup"
   ]
  },
  {
   "cell_type": "code",
   "execution_count": 44,
   "metadata": {
    "collapsed": false
   },
   "outputs": [
    {
     "name": "stdout",
     "output_type": "stream",
     "text": [
      "Iraq : Series([], Name: country_txt, dtype: int64)\n",
      "Syria : Series([], Name: country_txt, dtype: int64)\n",
      "countries:  United Kingdom        283\n",
      "United States          64\n",
      "West Germany (FRG)     24\n",
      "Spain                  19\n",
      "Argentina              15\n",
      "Iran                   15\n",
      "Turkey                  9\n",
      "France                  9\n",
      "Philippines             7\n",
      "Ireland                 5\n",
      "Name: country_txt, dtype: int64\n",
      "assasinations:  193\n",
      "armed assaults:  63\n",
      "bombings:  186\n"
     ]
    }
   ],
   "source": [
    "attacks_by_year(nineteenseventytwo) #Irish civil war dominates"
   ]
  },
  {
   "cell_type": "code",
   "execution_count": 45,
   "metadata": {
    "collapsed": false
   },
   "outputs": [
    {
     "name": "stdout",
     "output_type": "stream",
     "text": [
      "Iraq : Series([], Name: country_txt, dtype: int64)\n",
      "Syria : Series([], Name: country_txt, dtype: int64)\n",
      "countries:  United Kingdom        189\n",
      "Argentina              60\n",
      "United States          58\n",
      "West Germany (FRG)     27\n",
      "Spain                  21\n",
      "Italy                  15\n",
      "France                 14\n",
      "Greece                 11\n",
      "Lebanon                11\n",
      "Chile                   7\n",
      "Name: country_txt, dtype: int64\n",
      "assasinations:  164\n",
      "armed assaults:  62\n",
      "bombings:  149\n"
     ]
    }
   ],
   "source": [
    "attacks_by_year(nineteenseventythree) #Irish civil war continues, dirty war in Argentina, protestor violence in US"
   ]
  },
  {
   "cell_type": "code",
   "execution_count": 46,
   "metadata": {
    "collapsed": false
   },
   "outputs": [
    {
     "name": "stdout",
     "output_type": "stream",
     "text": [
      "Iraq : Series([], Name: country_txt, dtype: int64)\n",
      "Syria : Syria    4\n",
      "Name: country_txt, dtype: int64\n",
      "countries:  United Kingdom        202\n",
      "United States          94\n",
      "Argentina              71\n",
      "France                 29\n",
      "West Germany (FRG)     28\n",
      "Italy                  22\n",
      "Mexico                 16\n",
      "Spain                  14\n",
      "Israel                 12\n",
      "Iran                   11\n",
      "Name: country_txt, dtype: int64\n",
      "assasinations:  158\n",
      "armed assaults:  46\n",
      "bombings:  284\n"
     ]
    }
   ],
   "source": [
    "attacks_by_year(nineteenseventyfour) #Irish Civil War, U.S. violence, the \"dirty war\" of Argentina"
   ]
  },
  {
   "cell_type": "code",
   "execution_count": 47,
   "metadata": {
    "collapsed": false
   },
   "outputs": [
    {
     "name": "stdout",
     "output_type": "stream",
     "text": [
      "Iraq : Iraq    1\n",
      "Name: country_txt, dtype: int64\n",
      "Syria : Syria    2\n",
      "Name: country_txt, dtype: int64\n",
      "countries:  United Kingdom        194\n",
      "United States         149\n",
      "Spain                 136\n",
      "France                 39\n",
      "Argentina              38\n",
      "West Germany (FRG)     35\n",
      "Lebanon                15\n",
      "Iran                   13\n",
      "Japan                  12\n",
      "Turkey                 10\n",
      "Name: country_txt, dtype: int64\n",
      "assasinations:  181\n",
      "armed assaults:  81\n",
      "bombings:  370\n"
     ]
    }
   ],
   "source": [
    "attacks_by_year(nineteenseventyfive) #IRA attacks continue, \n",
    "#violence increases in U.S., Franco dies in Spain leading to terrorism by right and left-wing extremists"
   ]
  },
  {
   "cell_type": "code",
   "execution_count": 48,
   "metadata": {
    "collapsed": false
   },
   "outputs": [
    {
     "name": "stdout",
     "output_type": "stream",
     "text": [
      "Iraq : Iraq    3\n",
      "Name: country_txt, dtype: int64\n",
      "Syria : Syria    2\n",
      "Name: country_txt, dtype: int64\n",
      "countries:  United Kingdom        194\n",
      "Italy                 174\n",
      "United States         105\n",
      "France                 58\n",
      "Argentina              54\n",
      "Spain                  50\n",
      "West Germany (FRG)     50\n",
      "Turkey                 35\n",
      "Colombia               22\n",
      "Greece                 21\n",
      "Name: country_txt, dtype: int64\n",
      "assasinations:  204\n",
      "armed assaults:  124\n",
      "bombings:  419\n"
     ]
    }
   ],
   "source": [
    "attacks_by_year(nineteenseventysix) #IRA attacks continue \n",
    "#left/right wing terrorism incidents in Italy"
   ]
  },
  {
   "cell_type": "code",
   "execution_count": 49,
   "metadata": {
    "collapsed": false
   },
   "outputs": [
    {
     "name": "stdout",
     "output_type": "stream",
     "text": [
      "Iraq : Series([], Name: country_txt, dtype: int64)\n",
      "Syria : Syria    3\n",
      "Name: country_txt, dtype: int64\n",
      "countries:  Italy                 308\n",
      "Turkey                189\n",
      "Spain                 147\n",
      "United Kingdom        140\n",
      "United States         130\n",
      "Colombia               80\n",
      "France                 53\n",
      "Greece                 47\n",
      "West Germany (FRG)     40\n",
      "Mexico                 19\n",
      "Name: country_txt, dtype: int64\n",
      "assasinations:  146\n",
      "armed assaults:  255\n",
      "bombings:  635\n"
     ]
    }
   ],
   "source": [
    "attacks_by_year(nineteenseventyseven) #Years of lead continue in Italy, Taksim square massacre in Turkey, \n",
    "#political terror in Spain, Hanafi Siege in U.S., Irish attacks continue"
   ]
  },
  {
   "cell_type": "code",
   "execution_count": 50,
   "metadata": {
    "collapsed": false
   },
   "outputs": [
    {
     "name": "stdout",
     "output_type": "stream",
     "text": [
      "Iraq : Series([], Name: country_txt, dtype: int64)\n",
      "Syria : Syria    1\n",
      "Name: country_txt, dtype: int64\n",
      "countries:  Italy             277\n",
      "Spain             209\n",
      "Colombia          158\n",
      "United Kingdom    100\n",
      "El Salvador        91\n",
      "United States      87\n",
      "Nicaragua          76\n",
      "France             59\n",
      "Turkey             52\n",
      "Greece             39\n",
      "Name: country_txt, dtype: int64\n",
      "assasinations:  263\n",
      "armed assaults:  241\n",
      "bombings:  644\n"
     ]
    }
   ],
   "source": [
    "attacks_by_year(nineteenseventyeight) #Italian years of lead, Spanish far-right terrorism, FARC in Colombia, \n",
    "#Irish attacks continue"
   ]
  },
  {
   "cell_type": "code",
   "execution_count": 51,
   "metadata": {
    "collapsed": false
   },
   "outputs": [
    {
     "name": "stdout",
     "output_type": "stream",
     "text": [
      "Iraq : Iraq    2\n",
      "Name: country_txt, dtype: int64\n",
      "Syria : Syria    28\n",
      "Name: country_txt, dtype: int64\n",
      "countries:  El Salvador       326\n",
      "Spain             279\n",
      "United Kingdom    238\n",
      "France            212\n",
      "Italy             209\n",
      "Nicaragua         206\n",
      "Turkey            141\n",
      "Colombia          140\n",
      "Israel            130\n",
      "Iran               82\n",
      "Name: country_txt, dtype: int64\n",
      "assasinations:  526\n",
      "armed assaults:  447\n",
      "bombings:  1057\n"
     ]
    }
   ],
   "source": [
    "attacks_by_year(nineteenseventynine) #Salvadoran Civil War, Spanish far-right terrorism, IRA attacks in UK\n",
    "#radical leftists in France, Italian years of lead, US-funded right-wing contras in Nicaragua, right-wing Turkish deathsquads,\n",
    "#FARC in Colombia, Israeli Palestinian conflict\n"
   ]
  },
  {
   "cell_type": "code",
   "execution_count": 52,
   "metadata": {
    "collapsed": false
   },
   "outputs": [
    {
     "name": "stdout",
     "output_type": "stream",
     "text": [
      "Iraq : Iraq    6\n",
      "Name: country_txt, dtype: int64\n",
      "Syria : Syria    33\n",
      "Name: country_txt, dtype: int64\n",
      "countries:  El Salvador       710\n",
      "Guatemala         281\n",
      "Spain             187\n",
      "Colombia          141\n",
      "United Kingdom    135\n",
      "Italy             110\n",
      "Turkey             95\n",
      "France             94\n",
      "Lebanon            86\n",
      "Israel             79\n",
      "Name: country_txt, dtype: int64\n",
      "assasinations:  618\n",
      "armed assaults:  574\n",
      "bombings:  997\n"
     ]
    }
   ],
   "source": [
    "attacks_by_year(nineteeneighty) #Salvadoran Civil War, Guatemalan Civil War, Neofascist terrorism in Spain,\n",
    "#Colombian drug war contines, IRA attacks in the UK #Italian years of lead"
   ]
  },
  {
   "cell_type": "code",
   "execution_count": 53,
   "metadata": {
    "collapsed": false
   },
   "outputs": [
    {
     "name": "stdout",
     "output_type": "stream",
     "text": [
      "Iraq : Iraq    3\n",
      "Name: country_txt, dtype: int64\n",
      "Syria : Syria    41\n",
      "Name: country_txt, dtype: int64\n",
      "countries:  El Salvador       664\n",
      "Guatemala         399\n",
      "Colombia          172\n",
      "Peru              149\n",
      "United Kingdom    143\n",
      "Iran              108\n",
      "Spain             107\n",
      "Lebanon            81\n",
      "United States      73\n",
      "Italy              69\n",
      "Name: country_txt, dtype: int64\n",
      "assasinations:  405\n",
      "armed assaults:  697\n",
      "bombings:  1082\n"
     ]
    }
   ],
   "source": [
    "attacks_by_year(nineteeneightyone) #Salvadoran Civil War, Colombian drug war, Paquisha War in Peru, IRA in UK\n",
    "#Iran hostage crisis, neofascist terror in Spain"
   ]
  },
  {
   "cell_type": "code",
   "execution_count": 54,
   "metadata": {
    "collapsed": false
   },
   "outputs": [
    {
     "name": "stdout",
     "output_type": "stream",
     "text": [
      "Iraq : Iraq    5\n",
      "Name: country_txt, dtype: int64\n",
      "Syria : Syria    20\n",
      "Name: country_txt, dtype: int64\n",
      "countries:  El Salvador       537\n",
      "Guatemala         354\n",
      "Peru              350\n",
      "Colombia          222\n",
      "Spain             146\n",
      "Lebanon           120\n",
      "United Kingdom     95\n",
      "United States      78\n",
      "Israel             71\n",
      "Nicaragua          63\n",
      "Name: country_txt, dtype: int64\n",
      "assasinations:  362\n",
      "armed assaults:  665\n",
      "bombings:  1125\n"
     ]
    }
   ],
   "source": [
    "attacks_by_year(nineteeneightytwo) #Salvadoran Civil War, Guatamalen Civil War, Paquisha War in Peru, Colombian drug war\n",
    "#Neofascism in Spain, Lebanon War (Israel invades)"
   ]
  },
  {
   "cell_type": "code",
   "execution_count": 55,
   "metadata": {
    "collapsed": false
   },
   "outputs": [
    {
     "name": "stdout",
     "output_type": "stream",
     "text": [
      "Iraq : Iraq    3\n",
      "Name: country_txt, dtype: int64\n",
      "Syria : Syria    1\n",
      "Name: country_txt, dtype: int64\n",
      "countries:  Peru              536\n",
      "El Salvador       371\n",
      "Nicaragua         299\n",
      "Lebanon           234\n",
      "Colombia          234\n",
      "United Kingdom    177\n",
      "Spain             122\n",
      "France            121\n",
      "Guatemala         117\n",
      "Chile             106\n",
      "Name: country_txt, dtype: int64\n",
      "assasinations:  360\n",
      "armed assaults:  852\n",
      "bombings:  1246\n"
     ]
    }
   ],
   "source": [
    "attacks_by_year(nineteeneightythree) #internal conflict in Peru (guerilla war), Salvadoran Civil War, \n",
    "#contras in Nicaragua, Lebanon war, Colombia guerilla conflicts continue, IRA bombings in UK, neofascism in Spain, \n",
    "#Armenian nationalists in France, Guatemalan civil war, left-wing terrorism in Chile"
   ]
  },
  {
   "cell_type": "code",
   "execution_count": 56,
   "metadata": {
    "collapsed": false
   },
   "outputs": [
    {
     "name": "stdout",
     "output_type": "stream",
     "text": [
      "Iraq : Iraq    2\n",
      "Name: country_txt, dtype: int64\n",
      "Syria : Syria    1\n",
      "Name: country_txt, dtype: int64\n",
      "countries:  Peru              592\n",
      "Chile             563\n",
      "Nicaragua         302\n",
      "El Salvador       273\n",
      "Colombia          237\n",
      "Lebanon           166\n",
      "India             159\n",
      "France            145\n",
      "United Kingdom    145\n",
      "Spain             143\n",
      "Name: country_txt, dtype: int64\n",
      "assasinations:  443\n",
      "armed assaults:  823\n",
      "bombings:  1775\n"
     ]
    }
   ],
   "source": [
    "attacks_by_year(nineteeneightyfour) #south/central American conflicts continue, Lebanon war continues,\n",
    "#political violence in Europe continues, Sikh militants in India"
   ]
  },
  {
   "cell_type": "code",
   "execution_count": 57,
   "metadata": {
    "collapsed": false
   },
   "outputs": [
    {
     "name": "stdout",
     "output_type": "stream",
     "text": [
      "Iraq : Series([], Name: country_txt, dtype: int64)\n",
      "Syria : Syria    1\n",
      "Name: country_txt, dtype: int64\n",
      "countries:  El Salvador     436\n",
      "Colombia        382\n",
      "Peru            352\n",
      "Nicaragua       258\n",
      "Chile           232\n",
      "Philippines     124\n",
      "Spain           113\n",
      "Sri Lanka       110\n",
      "France          107\n",
      "South Africa    106\n",
      "Name: country_txt, dtype: int64\n",
      "assasinations:  311\n",
      "armed assaults:  659\n",
      "bombings:  1482\n"
     ]
    }
   ],
   "source": [
    "attacks_by_year(nineteeneightyfive) #Salvadoran civil war, continued conflict in South/Central America,\n",
    "#communist party becomes active in the Philippines, Tamil Liberation Tigers in Sri Lanka\n",
    "#violence by the ruling party during Apartheid in South Africa"
   ]
  },
  {
   "cell_type": "code",
   "execution_count": 58,
   "metadata": {
    "collapsed": false
   },
   "outputs": [
    {
     "name": "stdout",
     "output_type": "stream",
     "text": [
      "Iraq : Series([], Name: country_txt, dtype: int64)\n",
      "Syria : Syria    4\n",
      "Name: country_txt, dtype: int64\n",
      "countries:  Peru            568\n",
      "Colombia        307\n",
      "Chile           243\n",
      "El Salvador     175\n",
      "Nicaragua       171\n",
      "South Africa    159\n",
      "Sri Lanka       142\n",
      "Spain           125\n",
      "Lebanon         106\n",
      "India            96\n",
      "Name: country_txt, dtype: int64\n",
      "assasinations:  371\n",
      "armed assaults:  592\n",
      "bombings:  1506\n"
     ]
    }
   ],
   "source": [
    "attacks_by_year(nineteeneightysix) #established terrorist groups continue"
   ]
  },
  {
   "cell_type": "code",
   "execution_count": 59,
   "metadata": {
    "collapsed": false
   },
   "outputs": [
    {
     "name": "stdout",
     "output_type": "stream",
     "text": [
      "Iraq : Iraq    3\n",
      "Name: country_txt, dtype: int64\n",
      "Syria : Series([], Name: country_txt, dtype: int64)\n",
      "countries:  Peru              627\n",
      "Colombia          337\n",
      "El Salvador       234\n",
      "Nicaragua         223\n",
      "Chile             173\n",
      "India             166\n",
      "Philippines       160\n",
      "South Africa      133\n",
      "United Kingdom    118\n",
      "Sri Lanka         115\n",
      "Name: country_txt, dtype: int64\n",
      "assasinations:  495\n",
      "armed assaults:  798\n",
      "bombings:  1476\n"
     ]
    }
   ],
   "source": [
    "attacks_by_year(nineteeneightyseven) #established terrorist gorups continue"
   ]
  },
  {
   "cell_type": "code",
   "execution_count": 60,
   "metadata": {
    "collapsed": false
   },
   "outputs": [
    {
     "name": "stdout",
     "output_type": "stream",
     "text": [
      "Iraq : Iraq    4\n",
      "Name: country_txt, dtype: int64\n",
      "Syria : Series([], Name: country_txt, dtype: int64)\n",
      "countries:  Colombia          427\n",
      "El Salvador       367\n",
      "India             358\n",
      "Peru              355\n",
      "Sri Lanka         350\n",
      "South Africa      245\n",
      "Philippines       210\n",
      "Chile             185\n",
      "United Kingdom    181\n",
      "Spain             151\n",
      "Name: country_txt, dtype: int64\n",
      "assasinations:  821\n",
      "armed assaults:  921\n",
      "bombings:  1650\n"
     ]
    }
   ],
   "source": [
    "attacks_by_year(nineteeneightyeight) #established terrorist groups continue"
   ]
  },
  {
   "cell_type": "code",
   "execution_count": 61,
   "metadata": {
    "collapsed": false
   },
   "outputs": [
    {
     "name": "stdout",
     "output_type": "stream",
     "text": [
      "Iraq : Iraq    4\n",
      "Name: country_txt, dtype: int64\n",
      "Syria : Syria    1\n",
      "Name: country_txt, dtype: int64\n",
      "countries:  Peru              630\n",
      "Sri Lanka         510\n",
      "Colombia          492\n",
      "El Salvador       356\n",
      "India             324\n",
      "United Kingdom    163\n",
      "Philippines       156\n",
      "South Africa      149\n",
      "Chile             146\n",
      "Spain             142\n",
      "Name: country_txt, dtype: int64\n",
      "assasinations:  980\n",
      "armed assaults:  1120\n",
      "bombings:  1797\n"
     ]
    }
   ],
   "source": [
    "attacks_by_year(nineteeneightynine) #established terrorist groups continue"
   ]
  },
  {
   "cell_type": "code",
   "execution_count": 62,
   "metadata": {
    "collapsed": false
   },
   "outputs": [
    {
     "name": "stdout",
     "output_type": "stream",
     "text": [
      "Iraq : Series([], Name: country_txt, dtype: int64)\n",
      "Syria : Series([], Name: country_txt, dtype: int64)\n",
      "countries:  Peru              495\n",
      "Colombia          349\n",
      "India             349\n",
      "Philippines       320\n",
      "Angola            205\n",
      "Turkey            195\n",
      "El Salvador       184\n",
      "Chile             161\n",
      "South Africa      154\n",
      "United Kingdom    147\n",
      "Name: country_txt, dtype: int64\n",
      "assasinations:  877\n",
      "armed assaults:  876\n",
      "bombings:  1731\n"
     ]
    }
   ],
   "source": [
    "attacks_by_year(nineteenninety) #Angola civil war & conflicts between Turks and Kurds in Turkey"
   ]
  },
  {
   "cell_type": "code",
   "execution_count": 63,
   "metadata": {
    "collapsed": false
   },
   "outputs": [
    {
     "name": "stdout",
     "output_type": "stream",
     "text": [
      "Iraq : Iraq    3\n",
      "Name: country_txt, dtype: int64\n",
      "Syria : Series([], Name: country_txt, dtype: int64)\n",
      "countries:  Peru              658\n",
      "El Salvador       500\n",
      "Colombia          420\n",
      "India             339\n",
      "Turkey            293\n",
      "United Kingdom    262\n",
      "Philippines       162\n",
      "Pakistan          150\n",
      "France            137\n",
      "South Africa      127\n",
      "Name: country_txt, dtype: int64\n",
      "assasinations:  730\n",
      "armed assaults:  1271\n",
      "bombings:  1988\n"
     ]
    }
   ],
   "source": [
    "attacks_by_year(nineteenninetyone) #enforcement of Shari'ah law begins in Pakistan"
   ]
  },
  {
   "cell_type": "code",
   "execution_count": 126,
   "metadata": {
    "collapsed": false
   },
   "outputs": [
    {
     "name": "stdout",
     "output_type": "stream",
     "text": [
      "countries:  5073\n",
      "bombings per country:  Colombia                    307\n",
      "Peru                        201\n",
      "United Kingdom              119\n",
      "Turkey                      104\n",
      "France                       91\n",
      "Chile                        89\n",
      "Philippines                  62\n",
      "India                        57\n",
      "Lebanon                      48\n",
      "Spain                        40\n",
      "Algeria                      33\n",
      "South Africa                 32\n",
      "Argentina                    30\n",
      "Bolivia                      29\n",
      "Pakistan                     28\n",
      "Sri Lanka                    27\n",
      "Guatemala                    27\n",
      "Cambodia                     21\n",
      "Panama                       21\n",
      "Georgia                      18\n",
      "Greece                       17\n",
      "Togo                         17\n",
      "Italy                        15\n",
      "Japan                        15\n",
      "Yemen                        14\n",
      "Afghanistan                  13\n",
      "Ecuador                      12\n",
      "Israel                       12\n",
      "West Bank and Gaza Strip     12\n",
      "Thailand                     11\n",
      "Bosnia-Herzegovina           11\n",
      "Iraq                         10\n",
      "Rwanda                       10\n",
      "Egypt                         9\n",
      "Uruguay                       8\n",
      "Venezuela                     8\n",
      "Moldova                       7\n",
      "Iran                          7\n",
      "Nicaragua                     7\n",
      "Kenya                         7\n",
      "Germany                       7\n",
      "Dominican Republic            7\n",
      "Bangladesh                    6\n",
      "Ghana                         6\n",
      "Yugoslavia                    6\n",
      "Russia                        6\n",
      "Haiti                         5\n",
      "El Salvador                   5\n",
      "Cyprus                        5\n",
      "Taiwan                        5\n",
      "Sweden                        4\n",
      "Liberia                       4\n",
      "Angola                        4\n",
      "Brazil                        4\n",
      "Azerbaijan                    3\n",
      "United States                 3\n",
      "Myanmar                       3\n",
      "Ethiopia                      3\n",
      "Croatia                       3\n",
      "Honduras                      2\n",
      "Somalia                       2\n",
      "Madagascar                    2\n",
      "Netherlands                   2\n",
      "Bulgaria                      2\n",
      "Austria                       2\n",
      "Sudan                         2\n",
      "Kuwait                        2\n",
      "China                         2\n",
      "Tajikistan                    2\n",
      "Uganda                        1\n",
      "Nigeria                       1\n",
      "Romania                       1\n",
      "Suriname                      1\n",
      "Mexico                        1\n",
      "Ireland                       1\n",
      "Western Sahara                1\n",
      "Latvia                        1\n",
      "Belgium                       1\n",
      "Finland                       1\n",
      "Poland                        1\n",
      "Sierra Leone                  1\n",
      "Denmark                       1\n",
      "Jordan                        1\n",
      "Ukraine                       1\n",
      "Switzerland                   1\n",
      "Kazakhstan                    1\n",
      "Estonia                       1\n",
      "Zimbabwe                      1\n",
      "Djibouti                      1\n",
      "Mozambique                    1\n",
      "Niger                         1\n",
      "Canada                        1\n",
      "Name: country_txt, dtype: int64\n",
      "bombings:  1738\n",
      "total attacks:  9\n"
     ]
    }
   ],
   "source": [
    "attacks_by_year(nineteenninetytwo) #Algerian civil war following a coup negating an Islamist electoral victory \n",
    "#and in Germany, neo-nazi attacks and members of the Kurdistan Workers' Party (PKK)"
   ]
  },
  {
   "cell_type": "code",
   "execution_count": 79,
   "metadata": {
    "collapsed": false
   },
   "outputs": [
    {
     "name": "stdout",
     "output_type": "stream",
     "text": [
      "Iraq : Series([], Name: country_txt, dtype: int64)\n",
      "Syria : Series([], Name: country_txt, dtype: int64)\n",
      "countries:  Series([], Name: country_txt, dtype: int64)\n",
      "assasinations:  0\n",
      "armed assaults:  0\n",
      "bombings:  0\n"
     ]
    }
   ],
   "source": [
    "attacks_by_year(nineteenninetythree)"
   ]
  },
  {
   "cell_type": "code",
   "execution_count": 127,
   "metadata": {
    "collapsed": false
   },
   "outputs": [
    {
     "name": "stdout",
     "output_type": "stream",
     "text": [
      "countries:  3458\n",
      "bombings per country:  Turkey                      141\n",
      "Colombia                     91\n",
      "United Kingdom               90\n",
      "France                       67\n",
      "Peru                         55\n",
      "Bangladesh                   51\n",
      "Guatemala                    51\n",
      "Lebanon                      48\n",
      "India                        42\n",
      "Spain                        33\n",
      "South Africa                 32\n",
      "Greece                       29\n",
      "Iran                         28\n",
      "West Bank and Gaza Strip     22\n",
      "Russia                       22\n",
      "Pakistan                     20\n",
      "Philippines                  19\n",
      "Sri Lanka                    18\n",
      "Thailand                     16\n",
      "Algeria                      13\n",
      "Israel                       13\n",
      "Chile                        12\n",
      "Iraq                         11\n",
      "Tajikistan                   11\n",
      "Egypt                        10\n",
      "Argentina                     9\n",
      "Mexico                        9\n",
      "Cambodia                      9\n",
      "Georgia                       8\n",
      "United States                 8\n",
      "Somalia                       7\n",
      "Venezuela                     6\n",
      "Burundi                       6\n",
      "Estonia                       5\n",
      "Italy                         5\n",
      "Nigeria                       5\n",
      "Dominican Republic            5\n",
      "Austria                       5\n",
      "China                         5\n",
      "Rwanda                        5\n",
      "Bolivia                       5\n",
      "Australia                     4\n",
      "Croatia                       4\n",
      "Nicaragua                     4\n",
      "Afghanistan                   4\n",
      "Ireland                       4\n",
      "Poland                        4\n",
      "Cyprus                        4\n",
      "Haiti                         4\n",
      "Azerbaijan                    4\n",
      "Uganda                        4\n",
      "Benin                         3\n",
      "Angola                        3\n",
      "Sierra Leone                  3\n",
      "El Salvador                   3\n",
      "Armenia                       3\n",
      "Bosnia-Herzegovina            3\n",
      "Myanmar                       3\n",
      "Jordan                        3\n",
      "Togo                          3\n",
      "Ukraine                       3\n",
      "Luxembourg                    3\n",
      "Hungary                       2\n",
      "Panama                        2\n",
      "Ecuador                       2\n",
      "Canada                        2\n",
      "Zaire                         2\n",
      "Honduras                      2\n",
      "Kenya                         1\n",
      "Taiwan                        1\n",
      "Norway                        1\n",
      "Djibouti                      1\n",
      "Namibia                       1\n",
      "Chad                          1\n",
      "Kuwait                        1\n",
      "Indonesia                     1\n",
      "Republic of the Congo         1\n",
      "Germany                       1\n",
      "Bulgaria                      1\n",
      "Cameroon                      1\n",
      "Yemen                         1\n",
      "Vietnam                       1\n",
      "Netherlands                   1\n",
      "Latvia                        1\n",
      "Morocco                       1\n",
      "Moldova                       1\n",
      "Macedonia                     1\n",
      "Finland                       1\n",
      "Albania                       1\n",
      "Name: country_txt, dtype: int64\n",
      "bombings:  1153\n",
      "total attacks:  9\n"
     ]
    }
   ],
   "source": [
    "attacks_by_year(nineteenninetyfour) \n",
    "#west bank and gaza strip, Egypt"
   ]
  },
  {
   "cell_type": "code",
   "execution_count": 67,
   "metadata": {
    "collapsed": false
   },
   "outputs": [
    {
     "name": "stdout",
     "output_type": "stream",
     "text": [
      "Iraq : Iraq    17\n",
      "Name: country_txt, dtype: int64\n",
      "Syria : Series([], Name: country_txt, dtype: int64)\n",
      "countries:  Pakistan     666\n",
      "Algeria      185\n",
      "India        179\n",
      "Germany      147\n",
      "Turkey       133\n",
      "Sri Lanka    126\n",
      "Colombia     123\n",
      "Egypt        102\n",
      "Burundi       83\n",
      "Guatemala     82\n",
      "Name: country_txt, dtype: int64\n",
      "assasinations:  729\n",
      "armed assaults:  740\n",
      "bombings:  791\n"
     ]
    }
   ],
   "source": [
    "attacks_by_year(nineteenninetyfive)"
   ]
  },
  {
   "cell_type": "code",
   "execution_count": 68,
   "metadata": {
    "collapsed": false
   },
   "outputs": [
    {
     "name": "stdout",
     "output_type": "stream",
     "text": [
      "Iraq : Iraq    12\n",
      "Name: country_txt, dtype: int64\n",
      "Syria : Syria    2\n",
      "Name: country_txt, dtype: int64\n",
      "countries:  Colombia      409\n",
      "France        270\n",
      "India         211\n",
      "Pakistan      180\n",
      "Sri Lanka     176\n",
      "Bangladesh    161\n",
      "Algeria       129\n",
      "Mexico         75\n",
      "Russia         66\n",
      "Indonesia      65\n",
      "Name: country_txt, dtype: int64\n",
      "assasinations:  478\n",
      "armed assaults:  638\n",
      "bombings:  1217\n"
     ]
    }
   ],
   "source": [
    "attacks_by_year(nineteenninetysix)"
   ]
  },
  {
   "cell_type": "code",
   "execution_count": 69,
   "metadata": {
    "collapsed": false
   },
   "outputs": [
    {
     "name": "stdout",
     "output_type": "stream",
     "text": [
      "Iraq : Iraq    21\n",
      "Name: country_txt, dtype: int64\n",
      "Syria : Syria    1\n",
      "Name: country_txt, dtype: int64\n",
      "countries:  Colombia          598\n",
      "Algeria           344\n",
      "Pakistan          206\n",
      "India             193\n",
      "France            130\n",
      "Mexico             95\n",
      "Spain              86\n",
      "Burundi            79\n",
      "United Kingdom     78\n",
      "Russia             77\n",
      "Name: country_txt, dtype: int64\n",
      "assasinations:  420\n",
      "armed assaults:  826\n",
      "bombings:  1123\n"
     ]
    }
   ],
   "source": [
    "attacks_by_year(nineteenninetyseven)"
   ]
  },
  {
   "cell_type": "code",
   "execution_count": 70,
   "metadata": {
    "collapsed": false
   },
   "outputs": [
    {
     "name": "stdout",
     "output_type": "stream",
     "text": [
      "Iraq : Iraq    7\n",
      "Name: country_txt, dtype: int64\n",
      "Syria : Syria    1\n",
      "Name: country_txt, dtype: int64\n",
      "countries:  Algeria           151\n",
      "Colombia           94\n",
      "United Kingdom     63\n",
      "India              61\n",
      "Yugoslavia         46\n",
      "Pakistan           37\n",
      "Sri Lanka          35\n",
      "United States      30\n",
      "Greece             28\n",
      "Russia             26\n",
      "Name: country_txt, dtype: int64\n",
      "assasinations:  24\n",
      "armed assaults:  264\n",
      "bombings:  504\n"
     ]
    }
   ],
   "source": [
    "attacks_by_year(nineteenninetyeight)"
   ]
  },
  {
   "cell_type": "code",
   "execution_count": 71,
   "metadata": {
    "collapsed": false
   },
   "outputs": [
    {
     "name": "stdout",
     "output_type": "stream",
     "text": [
      "Iraq : Iraq    12\n",
      "Name: country_txt, dtype: int64\n",
      "Syria : Series([], Name: country_txt, dtype: int64)\n",
      "countries:  Colombia          116\n",
      "India             112\n",
      "Turkey            109\n",
      "Algeria           106\n",
      "United Kingdom     76\n",
      "Indonesia          61\n",
      "Russia             54\n",
      "United States      53\n",
      "Spain              47\n",
      "Sri Lanka          46\n",
      "Name: country_txt, dtype: int64\n",
      "assasinations:  61\n",
      "armed assaults:  368\n",
      "bombings:  652\n"
     ]
    }
   ],
   "source": [
    "attacks_by_year(nineteenninetynine)"
   ]
  },
  {
   "cell_type": "code",
   "execution_count": 72,
   "metadata": {
    "collapsed": false
   },
   "outputs": [
    {
     "name": "stdout",
     "output_type": "stream",
     "text": [
      "Iraq : Iraq    10\n",
      "Name: country_txt, dtype: int64\n",
      "Syria : Series([], Name: country_txt, dtype: int64)\n",
      "countries:  India             179\n",
      "Russia            138\n",
      "Algeria           138\n",
      "Colombia          137\n",
      "Philippines       132\n",
      "Spain             112\n",
      "Indonesia         101\n",
      "Sri Lanka          68\n",
      "United Kingdom     61\n",
      "Kosovo             60\n",
      "Name: country_txt, dtype: int64\n",
      "assasinations:  103\n",
      "armed assaults:  492\n",
      "bombings:  904\n"
     ]
    }
   ],
   "source": [
    "attacks_by_year(twothousand)"
   ]
  },
  {
   "cell_type": "code",
   "execution_count": 73,
   "metadata": {
    "collapsed": false
   },
   "outputs": [
    {
     "name": "stdout",
     "output_type": "stream",
     "text": [
      "Iraq : Iraq    3\n",
      "Name: country_txt, dtype: int64\n",
      "Syria : Series([], Name: country_txt, dtype: int64)\n",
      "countries:  India                       234\n",
      "Colombia                    207\n",
      "Russia                      135\n",
      "West Bank and Gaza Strip    123\n",
      "Algeria                     113\n",
      "Indonesia                   105\n",
      "United Kingdom               94\n",
      "Israel                       79\n",
      "Spain                        79\n",
      "Macedonia                    67\n",
      "Name: country_txt, dtype: int64\n",
      "assasinations:  127\n",
      "armed assaults:  581\n",
      "bombings:  802\n"
     ]
    }
   ],
   "source": [
    "attacks_by_year(twothousandone)"
   ]
  },
  {
   "cell_type": "code",
   "execution_count": 74,
   "metadata": {
    "collapsed": false
   },
   "outputs": [
    {
     "name": "stdout",
     "output_type": "stream",
     "text": [
      "Iraq : Iraq    6\n",
      "Name: country_txt, dtype: int64\n",
      "Syria : Series([], Name: country_txt, dtype: int64)\n",
      "countries:  India                       182\n",
      "Colombia                    150\n",
      "Algeria                     132\n",
      "Russia                       89\n",
      "West Bank and Gaza Strip     86\n",
      "Israel                       75\n",
      "Nepal                        58\n",
      "Philippines                  48\n",
      "Pakistan                     46\n",
      "Indonesia                    43\n",
      "Name: country_txt, dtype: int64\n",
      "assasinations:  73\n",
      "armed assaults:  366\n",
      "bombings:  721\n"
     ]
    }
   ],
   "source": [
    "attacks_by_year(twothousandtwo)"
   ]
  },
  {
   "cell_type": "code",
   "execution_count": 75,
   "metadata": {
    "collapsed": false
   },
   "outputs": [
    {
     "name": "stdout",
     "output_type": "stream",
     "text": [
      "Iraq : Iraq    87\n",
      "Name: country_txt, dtype: int64\n",
      "Syria : Series([], Name: country_txt, dtype: int64)\n",
      "countries:  India                       196\n",
      "Philippines                 107\n",
      "Afghanistan                 100\n",
      "Colombia                     98\n",
      "Iraq                         87\n",
      "Russia                       76\n",
      "Algeria                      75\n",
      "West Bank and Gaza Strip     45\n",
      "Israel                       38\n",
      "France                       34\n",
      "Name: country_txt, dtype: int64\n",
      "assasinations:  86\n",
      "armed assaults:  312\n",
      "bombings:  678\n"
     ]
    }
   ],
   "source": [
    "attacks_by_year(twothousandthree)"
   ]
  },
  {
   "cell_type": "code",
   "execution_count": 76,
   "metadata": {
    "collapsed": false
   },
   "outputs": [
    {
     "name": "stdout",
     "output_type": "stream",
     "text": [
      "Iraq : Iraq    319\n",
      "Name: country_txt, dtype: int64\n",
      "Syria : Syria    1\n",
      "Name: country_txt, dtype: int64\n",
      "countries:  Iraq                        319\n",
      "India                       108\n",
      "Afghanistan                  88\n",
      "Pakistan                     67\n",
      "Algeria                      67\n",
      "Nepal                        62\n",
      "Thailand                     44\n",
      "Russia                       43\n",
      "Colombia                     37\n",
      "West Bank and Gaza Strip     34\n",
      "Name: country_txt, dtype: int64\n",
      "assasinations:  104\n",
      "armed assaults:  259\n",
      "bombings:  655\n"
     ]
    }
   ],
   "source": [
    "attacks_by_year(twothousandfour)"
   ]
  },
  {
   "cell_type": "code",
   "execution_count": 77,
   "metadata": {
    "collapsed": false
   },
   "outputs": [
    {
     "name": "stdout",
     "output_type": "stream",
     "text": [
      "Iraq : Iraq    618\n",
      "Name: country_txt, dtype: int64\n",
      "Syria : Series([], Name: country_txt, dtype: int64)\n",
      "countries:  Iraq           618\n",
      "Afghanistan    155\n",
      "Thailand       155\n",
      "India          145\n",
      "Sri Lanka      133\n",
      "Algeria        104\n",
      "Pakistan        78\n",
      "Nepal           70\n",
      "Russia          63\n",
      "Israel          43\n",
      "Name: country_txt, dtype: int64\n",
      "assasinations:  225\n",
      "armed assaults:  510\n",
      "bombings:  1064\n"
     ]
    }
   ],
   "source": [
    "attacks_by_year(twothousandfive)"
   ]
  },
  {
   "cell_type": "code",
   "execution_count": 78,
   "metadata": {
    "collapsed": false
   },
   "outputs": [
    {
     "name": "stdout",
     "output_type": "stream",
     "text": [
      "Iraq : Iraq    837\n",
      "Name: country_txt, dtype: int64\n",
      "Syria : Syria    1\n",
      "Name: country_txt, dtype: int64\n",
      "countries:  Iraq           837\n",
      "Afghanistan    282\n",
      "Sri Lanka      217\n",
      "Thailand       202\n",
      "India          167\n",
      "Pakistan       164\n",
      "Algeria        152\n",
      "Nepal           83\n",
      "Israel          78\n",
      "Philippines     58\n",
      "Name: country_txt, dtype: int64\n",
      "assasinations:  140\n",
      "armed assaults:  737\n",
      "bombings:  1502\n"
     ]
    }
   ],
   "source": [
    "attacks_by_year(twothousandsix)"
   ]
  },
  {
   "cell_type": "code",
   "execution_count": 79,
   "metadata": {
    "collapsed": false
   },
   "outputs": [
    {
     "name": "stdout",
     "output_type": "stream",
     "text": [
      "Iraq : Iraq    1047\n",
      "Name: country_txt, dtype: int64\n",
      "Syria : Series([], Name: country_txt, dtype: int64)\n",
      "countries:  Iraq                        1047\n",
      "Afghanistan                  340\n",
      "Thailand                     292\n",
      "Pakistan                     260\n",
      "Somalia                      156\n",
      "India                        149\n",
      "Sri Lanka                    132\n",
      "Algeria                      124\n",
      "Nepal                         90\n",
      "West Bank and Gaza Strip      88\n",
      "Name: country_txt, dtype: int64\n",
      "assasinations:  140\n",
      "armed assaults:  848\n",
      "bombings:  1865\n"
     ]
    }
   ],
   "source": [
    "attacks_by_year(twothousandseven)"
   ]
  },
  {
   "cell_type": "code",
   "execution_count": 80,
   "metadata": {
    "collapsed": false
   },
   "outputs": [
    {
     "name": "stdout",
     "output_type": "stream",
     "text": [
      "Iraq : Iraq    1104\n",
      "Name: country_txt, dtype: int64\n",
      "Syria : Syria    1\n",
      "Name: country_txt, dtype: int64\n",
      "countries:  Iraq           1104\n",
      "Pakistan        567\n",
      "India           516\n",
      "Afghanistan     415\n",
      "Philippines     275\n",
      "Thailand        200\n",
      "Somalia         172\n",
      "Russia          170\n",
      "Israel          134\n",
      "Colombia        133\n",
      "Name: country_txt, dtype: int64\n",
      "assasinations:  219\n",
      "armed assaults:  1093\n",
      "bombings:  2642\n"
     ]
    }
   ],
   "source": [
    "attacks_by_year(twothousandeight)"
   ]
  },
  {
   "cell_type": "code",
   "execution_count": 81,
   "metadata": {
    "collapsed": false
   },
   "outputs": [
    {
     "name": "stdout",
     "output_type": "stream",
     "text": [
      "Iraq : Iraq    1137\n",
      "Name: country_txt, dtype: int64\n",
      "Syria : Series([], Name: country_txt, dtype: int64)\n",
      "countries:  Iraq           1137\n",
      "India           673\n",
      "Pakistan        667\n",
      "Afghanistan     502\n",
      "Thailand        298\n",
      "Philippines     230\n",
      "Russia          152\n",
      "Colombia        139\n",
      "Somalia         122\n",
      "Greece          115\n",
      "Name: country_txt, dtype: int64\n",
      "assasinations:  227\n",
      "armed assaults:  1118\n",
      "bombings:  2565\n"
     ]
    }
   ],
   "source": [
    "attacks_by_year(twothousandnine)"
   ]
  },
  {
   "cell_type": "code",
   "execution_count": 82,
   "metadata": {
    "collapsed": false
   },
   "outputs": [
    {
     "name": "stdout",
     "output_type": "stream",
     "text": [
      "Iraq : Iraq    1179\n",
      "Name: country_txt, dtype: int64\n",
      "Syria : Series([], Name: country_txt, dtype: int64)\n",
      "countries:  Iraq           1179\n",
      "Pakistan        713\n",
      "India           661\n",
      "Afghanistan     541\n",
      "Thailand        253\n",
      "Russia          251\n",
      "Philippines     205\n",
      "Colombia        136\n",
      "Somalia         129\n",
      "Yemen           112\n",
      "Name: country_txt, dtype: int64\n",
      "assasinations:  360\n",
      "armed assaults:  1114\n",
      "bombings:  2507\n"
     ]
    }
   ],
   "source": [
    "attacks_by_year(twothousandten)"
   ]
  },
  {
   "cell_type": "code",
   "execution_count": 83,
   "metadata": {
    "collapsed": false
   },
   "outputs": [
    {
     "name": "stdout",
     "output_type": "stream",
     "text": [
      "Iraq : Iraq    1307\n",
      "Name: country_txt, dtype: int64\n",
      "Syria : Syria    49\n",
      "Name: country_txt, dtype: int64\n",
      "countries:  Iraq           1307\n",
      "Pakistan       1011\n",
      "India           643\n",
      "Afghanistan     421\n",
      "Russia          188\n",
      "Somalia         185\n",
      "Thailand        181\n",
      "Nigeria         175\n",
      "Philippines     149\n",
      "Yemen           118\n",
      "Name: country_txt, dtype: int64\n",
      "assasinations:  342\n",
      "armed assaults:  1391\n",
      "bombings:  2587\n"
     ]
    }
   ],
   "source": [
    "attacks_by_year(twothousandeleven)"
   ]
  },
  {
   "cell_type": "code",
   "execution_count": 84,
   "metadata": {
    "collapsed": false
   },
   "outputs": [
    {
     "name": "stdout",
     "output_type": "stream",
     "text": [
      "Iraq : Iraq    1438\n",
      "Name: country_txt, dtype: int64\n",
      "Syria : Syria    179\n",
      "Name: country_txt, dtype: int64\n",
      "countries:  Pakistan       1652\n",
      "Afghanistan    1469\n",
      "Iraq           1438\n",
      "Nigeria         616\n",
      "India           611\n",
      "Somalia         318\n",
      "Yemen           312\n",
      "Thailand        279\n",
      "Philippines     247\n",
      "Turkey          189\n",
      "Name: country_txt, dtype: int64\n",
      "assasinations:  458\n",
      "armed assaults:  2081\n",
      "bombings:  5080\n"
     ]
    }
   ],
   "source": [
    "attacks_by_year(twothousandtwelve)"
   ]
  },
  {
   "cell_type": "code",
   "execution_count": 85,
   "metadata": {
    "collapsed": false
   },
   "outputs": [
    {
     "name": "stdout",
     "output_type": "stream",
     "text": [
      "Iraq : Iraq    2849\n",
      "Name: country_txt, dtype: int64\n",
      "Syria : Syria    278\n",
      "Name: country_txt, dtype: int64\n",
      "countries:  Iraq           2849\n",
      "Pakistan       2213\n",
      "Afghanistan    1441\n",
      "India           694\n",
      "Philippines     651\n",
      "Thailand        471\n",
      "Yemen           424\n",
      "Nigeria         345\n",
      "Somalia         334\n",
      "Egypt           315\n",
      "Name: country_txt, dtype: int64\n",
      "assasinations:  845\n",
      "armed assaults:  2959\n",
      "bombings:  6669\n"
     ]
    }
   ],
   "source": [
    "attacks_by_year(twothousandthirteen)"
   ]
  },
  {
   "cell_type": "code",
   "execution_count": 86,
   "metadata": {
    "collapsed": false
   },
   "outputs": [
    {
     "name": "stdout",
     "output_type": "stream",
     "text": [
      "Iraq : Iraq    3925\n",
      "Name: country_txt, dtype: int64\n",
      "Syria : Syria    328\n",
      "Name: country_txt, dtype: int64\n",
      "countries:  Iraq           3925\n",
      "Pakistan       2147\n",
      "Afghanistan    1820\n",
      "Ukraine         891\n",
      "Somalia         862\n",
      "India           860\n",
      "Yemen           761\n",
      "Libya           730\n",
      "Nigeria         713\n",
      "Philippines     597\n",
      "Name: country_txt, dtype: int64\n",
      "assasinations:  922\n",
      "armed assaults:  4087\n",
      "bombings:  8759\n"
     ]
    }
   ],
   "source": [
    "attacks_by_year(twothousandfourteen)"
   ]
  },
  {
   "cell_type": "code",
   "execution_count": 87,
   "metadata": {
    "collapsed": false
   },
   "outputs": [
    {
     "name": "stdout",
     "output_type": "stream",
     "text": [
      "Iraq : Iraq    2743\n",
      "Name: country_txt, dtype: int64\n",
      "Syria : Syria    485\n",
      "Name: country_txt, dtype: int64\n",
      "countries:  Iraq           2743\n",
      "Afghanistan    1926\n",
      "Pakistan       1235\n",
      "India           882\n",
      "Philippines     717\n",
      "Yemen           668\n",
      "Ukraine         637\n",
      "Nigeria         637\n",
      "Egypt           582\n",
      "Libya           542\n",
      "Name: country_txt, dtype: int64\n",
      "assasinations:  917\n",
      "armed assaults:  3353\n",
      "bombings:  7615\n"
     ]
    }
   ],
   "source": [
    "attacks_by_year(twothousandfifteen)"
   ]
  },
  {
   "cell_type": "code",
   "execution_count": 88,
   "metadata": {
    "collapsed": false
   },
   "outputs": [
    {
     "data": {
      "text/plain": [
       "<matplotlib.axes._subplots.AxesSubplot at 0x12384f3d0>"
      ]
     },
     "execution_count": 88,
     "metadata": {},
     "output_type": "execute_result"
    },
    {
     "data": {
      "image/png": "[encoded data removed]",
      "text/plain": [
       "<matplotlib.figure.Figure at 0x1236d77d0>"
      ]
     },
     "metadata": {},
     "output_type": "display_data"
    }
   ],
   "source": [
    "GTD[GTD.country_txt == 'Russia'].iyear.value_counts().sort_index(ascending=True).plot()"
   ]
  },
  {
   "cell_type": "code",
   "execution_count": 89,
   "metadata": {
    "collapsed": false
   },
   "outputs": [
    {
     "data": {
      "text/plain": [
       "<matplotlib.axes._subplots.AxesSubplot at 0x11a946290>"
      ]
     },
     "execution_count": 89,
     "metadata": {},
     "output_type": "execute_result"
    },
    {
     "data": {
      "image/png": "[encoded data removed]",
      "text/plain": [
       "<matplotlib.figure.Figure at 0x125f526d0>"
      ]
     },
     "metadata": {},
     "output_type": "display_data"
    }
   ],
   "source": [
    "GTD[GTD.country_txt == 'United States'].iyear.value_counts().sort_index(ascending=True).plot()"
   ]
  },
  {
   "cell_type": "code",
   "execution_count": 90,
   "metadata": {
    "collapsed": false
   },
   "outputs": [],
   "source": [
    "ISIS = GTD[GTD.gname == 'Islamic State of Iraq and the Levant (ISIL)']"
   ]
  },
  {
   "cell_type": "code",
   "execution_count": null,
   "metadata": {
    "collapsed": false
   },
   "outputs": [],
   "source": []
  },
  {
   "cell_type": "code",
   "execution_count": 91,
   "metadata": {
    "collapsed": false,
    "scrolled": false
   },
   "outputs": [
    {
     "data": {
      "text/plain": [
       "<matplotlib.axes._subplots.AxesSubplot at 0x148bba210>"
      ]
     },
     "execution_count": 91,
     "metadata": {},
     "output_type": "execute_result"
    },
    {
     "data": {
      "image/png": "[encoded data removed]",
      "text/plain": [
       "<matplotlib.figure.Figure at 0x123907990>"
      ]
     },
     "metadata": {},
     "output_type": "display_data"
    }
   ],
   "source": [
    "Iraq = GTD[GTD.country_txt == 'Iraq']\n",
    "Syria = GTD[GTD.country_txt == 'Syria']\n",
    "Iraq.iyear.plot()\n",
    "Syria.iyear.plot()\n",
    "ISIS.iyear.plot()\n",
    "MENA.iyear.plot() #middle east"
   ]
  },
  {
   "cell_type": "code",
   "execution_count": 92,
   "metadata": {
    "collapsed": false
   },
   "outputs": [
    {
     "data": {
      "text/plain": [
       "South Asia                    1743\n",
       "Middle East & North Africa    1535\n",
       "Southeast Asia                 513\n",
       "Sub-Saharan Africa             380\n",
       "Eastern Europe                 209\n",
       "Western Europe                 163\n",
       "South America                  144\n",
       "Central Asia                    36\n",
       "North America                   31\n",
       "East Asia                       25\n",
       "Australasia & Oceania            8\n",
       "Name: region_txt, dtype: int64"
      ]
     },
     "execution_count": 92,
     "metadata": {},
     "output_type": "execute_result"
    }
   ],
   "source": [
    "GTD[GTD.iyear == 2008].region_txt.value_counts() #4787 attacks total, MENA ccounts for 32% of all attacks"
   ]
  },
  {
   "cell_type": "code",
   "execution_count": 93,
   "metadata": {
    "collapsed": false
   },
   "outputs": [
    {
     "data": {
      "text/plain": [
       "Iraq                        1104\n",
       "Israel                       134\n",
       "Algeria                      107\n",
       "West Bank and Gaza Strip      64\n",
       "Lebanon                       58\n",
       "Turkey                        32\n",
       "Yemen                         22\n",
       "Iran                           8\n",
       "Tunisia                        2\n",
       "Syria                          1\n",
       "Libya                          1\n",
       "Egypt                          1\n",
       "Bahrain                        1\n",
       "Name: country_txt, dtype: int64"
      ]
     },
     "execution_count": 93,
     "metadata": {},
     "output_type": "execute_result"
    }
   ],
   "source": [
    "#construct a prior about the amount of terror a given area has seen\n",
    "MENA[MENA.iyear == 2008].country_txt.value_counts() #1535 attacks total, Iraq accounts for 72% of all attacks"
   ]
  },
  {
   "cell_type": "code",
   "execution_count": 94,
   "metadata": {
    "collapsed": false
   },
   "outputs": [
    {
     "data": {
      "text/plain": [
       "2863.0"
      ]
     },
     "execution_count": 94,
     "metadata": {},
     "output_type": "execute_result"
    }
   ],
   "source": [
    "Iraq[Iraq.iyear == 2008].nkill.sum()"
   ]
  },
  {
   "cell_type": "code",
   "execution_count": 95,
   "metadata": {
    "collapsed": false
   },
   "outputs": [
    {
     "data": {
      "text/plain": [
       "8831.0"
      ]
     },
     "execution_count": 95,
     "metadata": {},
     "output_type": "execute_result"
    }
   ],
   "source": [
    "Iraq[Iraq.iyear == 2015].nkill.sum()"
   ]
  },
  {
   "cell_type": "code",
   "execution_count": 96,
   "metadata": {
    "collapsed": false
   },
   "outputs": [
    {
     "data": {
      "text/plain": [
       "Sub-Saharan Africa            14\n",
       "Middle East & North Africa    11\n",
       "Eastern Europe                 2\n",
       "South Asia                     1\n",
       "Name: region_txt, dtype: int64"
      ]
     },
     "execution_count": 96,
     "metadata": {},
     "output_type": "execute_result"
    }
   ],
   "source": [
    "twothousandfourteen[twothousandfourteen.nkill > 100].region_txt.value_counts() #166 attacks that killed over 100 people #6774 killed more than 10\n",
    "#there's a 2.5% chance that an attack will kill 100 people if it kills more than 10"
   ]
  },
  {
   "cell_type": "code",
   "execution_count": 97,
   "metadata": {
    "collapsed": false
   },
   "outputs": [
    {
     "data": {
      "text/plain": [
       "Middle East & North Africa     6917\n",
       "South Asia                     4990\n",
       "Sub-Saharan Africa             2306\n",
       "Southeast Asia                 1075\n",
       "Eastern Europe                  958\n",
       "South America                   281\n",
       "Western Europe                  214\n",
       "East Asia                        42\n",
       "North America                    34\n",
       "Australasia & Oceania             9\n",
       "Central Asia                      9\n",
       "Central America & Caribbean       5\n",
       "Name: region_txt, dtype: int64"
      ]
     },
     "execution_count": 97,
     "metadata": {},
     "output_type": "execute_result"
    }
   ],
   "source": [
    "twothousandfourteen.region_txt.value_counts() #16,840 total attacks"
   ]
  },
  {
   "cell_type": "code",
   "execution_count": 98,
   "metadata": {
    "collapsed": false
   },
   "outputs": [
    {
     "ename": "SyntaxError",
     "evalue": "invalid syntax (<ipython-input-98-868a376c492b>, line 2)",
     "output_type": "error",
     "traceback": [
      "\u001b[0;36m  File \u001b[0;32m\"<ipython-input-98-868a376c492b>\"\u001b[0;36m, line \u001b[0;32m2\u001b[0m\n\u001b[0;31m    1.probability it's in a region given it kill 100+ people * probability it kills 100 bunch of people\u001b[0m\n\u001b[0m                ^\u001b[0m\n\u001b[0;31mSyntaxError\u001b[0m\u001b[0;31m:\u001b[0m invalid syntax\n"
     ]
    }
   ],
   "source": [
    "#Probability a terror attack kills 100+ people given it's in a specific region =\n",
    "1.probability it's in a region given it kill 100+ people * probability it kills 100 bunch of people\n",
    "2. divided by probability it's in a specific region\n",
    "P(SSA | 100) = 14/27 (51.9%)  * .01 / 2306/16840 (13.7%) = 3.8%\n",
    "P(MENA | 100) = 11/27 (40.7%) * .01 / 6917/16840 (41.1%) = 1%\n",
    "P (EE | 100) = 2/27 (7.4%) * .01 / 958/16840 (5.7%) = 1.3%\n",
    "P (SA | 100) = 1/27 (3.7%) * .01 / 4990/16840 (29.6%) = .1%"
   ]
  },
  {
   "cell_type": "code",
   "execution_count": 99,
   "metadata": {
    "collapsed": false
   },
   "outputs": [
    {
     "ename": "SyntaxError",
     "evalue": "invalid syntax (<ipython-input-99-a6d68ed0ec9e>, line 2)",
     "output_type": "error",
     "traceback": [
      "\u001b[0;36m  File \u001b[0;32m\"<ipython-input-99-a6d68ed0ec9e>\"\u001b[0;36m, line \u001b[0;32m2\u001b[0m\n\u001b[0;31m    1. Probability a terror attack kills 100+ people given it's in a specific region * probability its in a region\u001b[0m\n\u001b[0m                 ^\u001b[0m\n\u001b[0;31mSyntaxError\u001b[0m\u001b[0;31m:\u001b[0m invalid syntax\n"
     ]
    }
   ],
   "source": [
    "#probability a terror attack is in a region given it kills 100+ people =\n",
    "1. Probability a terror attack kills 100+ people given it's in a specific region * probability its in a region\n",
    "2. divided by probability it kills a bunch of people\n",
    "P(100 | SSA) = 14/2306 * 2306/16850 / .01 = 8.3%\n",
    "p(100 | MENA) = 11/6917 * 6917/16850 / .01 = 6.5%\n",
    "p(100 | EE) = 2/958  * 958/16850 / .01 = 1.2%\n",
    "P(100 | SA) = 1/4990 * 4990/16840 / .01 = 0.5%\n",
    "83.5% it won't be in any of those regions"
   ]
  },
  {
   "cell_type": "code",
   "execution_count": 100,
   "metadata": {
    "collapsed": false
   },
   "outputs": [
    {
     "data": {
      "text/plain": [
       "Sub-Saharan Africa             61\n",
       "Middle East & North Africa     41\n",
       "South Asia                     24\n",
       "Central America & Caribbean    18\n",
       "Eastern Europe                  8\n",
       "North America                   5\n",
       "Southeast Asia                  4\n",
       "South America                   3\n",
       "Western Europe                  1\n",
       "East Asia                       1\n",
       "Name: region_txt, dtype: int64"
      ]
     },
     "execution_count": 100,
     "metadata": {},
     "output_type": "execute_result"
    }
   ],
   "source": [
    "GTD[GTD.nkill > 100].region_txt.value_counts()"
   ]
  },
  {
   "cell_type": "code",
   "execution_count": 101,
   "metadata": {
    "collapsed": false
   },
   "outputs": [
    {
     "data": {
      "text/plain": [
       "Middle East & North Africa     40422\n",
       "South Asia                     37841\n",
       "South America                  18628\n",
       "Western Europe                 16020\n",
       "Sub-Saharan Africa             13434\n",
       "Southeast Asia                 10360\n",
       "Central America & Caribbean    10337\n",
       "Eastern Europe                  4892\n",
       "North America                   3268\n",
       "East Asia                        786\n",
       "Central Asia                     538\n",
       "Australasia & Oceania            246\n",
       "Name: region_txt, dtype: int64"
      ]
     },
     "execution_count": 101,
     "metadata": {},
     "output_type": "execute_result"
    }
   ],
   "source": [
    "GTD.region_txt.value_counts() #156,772 attacks total"
   ]
  },
  {
   "cell_type": "code",
   "execution_count": 102,
   "metadata": {
    "collapsed": false
   },
   "outputs": [
    {
     "ename": "SyntaxError",
     "evalue": "invalid syntax (<ipython-input-102-2725da373255>, line 2)",
     "output_type": "error",
     "traceback": [
      "\u001b[0;36m  File \u001b[0;32m\"<ipython-input-102-2725da373255>\"\u001b[0;36m, line \u001b[0;32m2\u001b[0m\n\u001b[0;31m    1.probability it's in a region given it kill 100+ people * probability it kills 100 bunch of people\u001b[0m\n\u001b[0m                ^\u001b[0m\n\u001b[0;31mSyntaxError\u001b[0m\u001b[0;31m:\u001b[0m invalid syntax\n"
     ]
    }
   ],
   "source": [
    "#Probability a terror attack kills 100+ people given it's in a specific region (all time) =\n",
    "1.probability it's in a region given it kill 100+ people * probability it kills 100 bunch of people\n",
    "2. divided by probability it's in a specific region\n",
    "P(SSA | 100) = 61/166 (36.7%)  * .001 / 13434/156772 (8.6%) = .4%\n",
    "P(MENA | 100) = 41/166 (24.7%) * .001 / 40422/156772 (25.7%) = .1%\n",
    "P (SA | 100) = 24/166 (14.5%) * .001 / 37841/156772 (24.1%) = .06%\n",
    "P (CAC | 100) = 18/166 (10.8%) * .001 / 10337/156772 (6.6%) = .2%\n",
    "P (EE | 100) = 8/166 (4.8%) * .001 / 4892/156772 (3.1%) = .15%\n",
    "P (NA | 100) = 5/166 (3.0%) * .001 / 3268/156772 (2.1%) = .14%\n",
    "P (SEA | 100) = 4/166 (2.4%) * .001 / 10360/156772 (6.6%) = .04%\n",
    "P (SAm | 100) = 3/166 (1.8%) * .001 / 18628/156772 (11.9%) = .02%\n",
    "P (WE | 100) = 1/166 (0.6%) * .001 / 16020/156772 (10.2%) = .01%\n",
    "P (EA | 100) = 1/166 (0.6%) * .001 / 786/156772 ((.05%)) = .12%\n",
    "\n",
    "Sub-Saharan Africa             61\n",
    "Middle East & North Africa     41\n",
    "South Asia                     24\n",
    "Central America & Caribbean    18\n",
    "Eastern Europe                  8\n",
    "North America                   5\n",
    "Southeast Asia                  4\n",
    "South America                   3\n",
    "Western Europe                  1\n",
    "East Asia                       1\n",
    "\n",
    "#probability a terror attack is in a region given it kills 100+ people (all time) =\n",
    "1. Probability a terror attack kills 100+ people given it's in a specific region * probability its in a region\n",
    "2. divided by probability it kills a bunch of people\n",
    "P(100 | SSA) = 61/13434  * 13434/156772 (8.6%) / .001 = 39%\n",
    "P(100 |  MENA) = 41/40422 * 40422/156772 (25.7%) / .001 = 26%\n",
    "P (100 | SA) = 24/37841  * 37841/156772 (24.1%) / .001 = 15%\n",
    "P (100 | CAC) = 18/10337  * 10337/156772 (6.6%) / .001 = 11.5%\n",
    "P (100 | EE) = 8/4892 * 4892/156772 (3.1%) / .001 = 5%\n",
    "P (100 | NA) = 5/3268 * 3268/156772 (2.1%) / .001 = 3.2%\n",
    "P (100 | SEA) = 4/10360 * 10360/156772 (6.6%) / .001 = 2.5%\n",
    "P (100 | SAm) = 3/18628 * 18628/156772 (11.9%) / .001 = 1.9%\n",
    "P (100 | WE) = 1/16020 * 16020/156772 (10.2%) / .001 = 0.6%\n",
    "P (100 | EA) = 1/786 * 786/156772 ((.05%)) /  .001 = 0.6%\n",
    "\n"
   ]
  },
  {
   "cell_type": "code",
   "execution_count": 103,
   "metadata": {
    "collapsed": false
   },
   "outputs": [
    {
     "data": {
      "text/plain": [
       "156772"
      ]
     },
     "execution_count": 103,
     "metadata": {},
     "output_type": "execute_result"
    }
   ],
   "source": [
    "GTD.region_txt.value_counts().sum()"
   ]
  },
  {
   "cell_type": "code",
   "execution_count": 104,
   "metadata": {
    "collapsed": true
   },
   "outputs": [],
   "source": [
    "#update that prior with new information (like a new year of attacks or \n",
    "#a contrasting country from within the same region)"
   ]
  },
  {
   "cell_type": "code",
   "execution_count": 105,
   "metadata": {
    "collapsed": true
   },
   "outputs": [],
   "source": [
    "#You should compare two populations of your choosing using Bayesian inference"
   ]
  },
  {
   "cell_type": "code",
   "execution_count": 106,
   "metadata": {
    "collapsed": true
   },
   "outputs": [],
   "source": [
    "#We want to know if the amount of terror one area has seen differs in a \n",
    "#significant way than another area (or time period!)"
   ]
  },
  {
   "cell_type": "code",
   "execution_count": 107,
   "metadata": {
    "collapsed": true
   },
   "outputs": [],
   "source": [
    "#You must justify the prior you selected and interpret your results (use credible intervals.) \n",
    "#Remember you can attempt to use different priors (but don't \"prior hack\" to affect your output!)"
   ]
  },
  {
   "cell_type": "code",
   "execution_count": null,
   "metadata": {
    "collapsed": true
   },
   "outputs": [],
   "source": [
    "#10+ kills in a single attack in Iraq/ 10+ kills in a single attack in Syria in 2014"
   ]
  },
  {
   "cell_type": "code",
   "execution_count": 189,
   "metadata": {
    "collapsed": false
   },
   "outputs": [
    {
     "name": "stdout",
     "output_type": "stream",
     "text": [
      "41.4523809524\n",
      "130.50215787\n"
     ]
    }
   ],
   "source": [
    "Iraq_2014 = twothousandfourteen[twothousandfourteen.country_txt == \"Iraq\"]\n",
    "Iraq_2014_10plus = Iraq_2014[Iraq_2014.nkill > 10].nkill.values\n",
    "print Iraq_2014_10plus.mean()\n",
    "print Iraq_2014_10plus.std()"
   ]
  },
  {
   "cell_type": "code",
   "execution_count": 191,
   "metadata": {
    "collapsed": false
   },
   "outputs": [
    {
     "name": "stdout",
     "output_type": "stream",
     "text": [
      "36.8378378378\n",
      "68.5227213702\n"
     ]
    }
   ],
   "source": [
    "Syria_2014 = twothousandfourteen[twothousandfourteen.country_txt == \"Syria\"]\n",
    "Syria_2014_10plus = Syria_2014[Syria_2014.nkill > 10].nkill.values\n",
    "print Syria_2014_10plus.mean()\n",
    "print Syria_2014_10plus.std()"
   ]
  },
  {
   "cell_type": "code",
   "execution_count": 192,
   "metadata": {
    "collapsed": false
   },
   "outputs": [],
   "source": [
    "tenplusprior = GTD[GTD.iyear < 2014]\n",
    "tenplusprior = tenplusprior[tenplusprior.nkill > 10]\n",
    "tenplusprior_Iraq = tenplusprior[tenplusprior.country_txt == \"Iraq\"]\n",
    "tenplusprior_Syria = tenplusprior[tenplusprior.country_txt == \"Syria\"]"
   ]
  },
  {
   "cell_type": "code",
   "execution_count": 193,
   "metadata": {
    "collapsed": false
   },
   "outputs": [
    {
     "name": "stdout",
     "output_type": "stream",
     "text": [
      "26.2503506311\n",
      "24.3789894693\n",
      "25.2619047619\n",
      "19.5564484466\n"
     ]
    }
   ],
   "source": [
    "prior_mean_Iraq = tenplusprior_Iraq.nkill.mean()\n",
    "prior_std_Iraq = tenplusprior_Iraq.nkill.std()\n",
    "prior_mean_Syria = tenplusprior_Syria.nkill.mean()\n",
    "prior_std_Syria = tenplusprior_Syria.nkill.std()\n",
    "print prior_mean_Iraq #in all years before 2014, if an attack killed more than 10, it killed 25 or 26 on avg \n",
    "#in both Iraq and Syria. Will the pattern hold for 2014?\n",
    "print prior_std_Iraq\n",
    "print prior_mean_Syria\n",
    "print prior_std_Syria"
   ]
  },
  {
   "cell_type": "code",
   "execution_count": 194,
   "metadata": {
    "collapsed": false
   },
   "outputs": [],
   "source": [
    "import pymc3 as pm\n",
    "import matplotlib.pyplot as plt\n",
    "import numpy as np\n",
    "import pandas as pd\n",
    "import seaborn as sns\n",
    "\n",
    "plt.style.use('fivethirtyeight')\n",
    "\n",
    "%matplotlib inline\n",
    "%config InlineBackend.figure_format = 'retina'\n",
    "# model specifications in PyMC3 are wrapped in a with-statement\n",
    "with pm.Model() as model:\n",
    "\n",
    "    Iraq_2014_10plus_mean = pm.Normal('Iraq_2014_10plus_mean', prior_mean_Iraq, sd=prior_std_Iraq)\n",
    "    Syria_2014_10plus_mean = pm.Normal('Syria_2014_10plus_mean', prior_mean_Syria, sd=prior_std_Syria)"
   ]
  },
  {
   "cell_type": "code",
   "execution_count": 195,
   "metadata": {
    "collapsed": true
   },
   "outputs": [],
   "source": [
    "std_prior_lower = 0.01\n",
    "std_prior_upper = 100.0\n",
    "\n",
    "with model:\n",
    "    \n",
    "    Iraq_2014_10plus_std = pm.Uniform('Iraq_2014_10plus_std', lower=std_prior_lower, upper=std_prior_upper)\n",
    "    Syria_2014_10plus_std = pm.Uniform('Syria_2014_10plus_std', lower=std_prior_lower, upper=std_prior_upper)"
   ]
  },
  {
   "cell_type": "code",
   "execution_count": 196,
   "metadata": {
    "collapsed": true
   },
   "outputs": [],
   "source": [
    "with model:\n",
    "\n",
    "    Iraq10plus = pm.Normal('Iraq10plus', mu=Iraq_2014_10plus_mean, sd=Iraq_2014_10plus_std, observed=Iraq_2014_10plus)\n",
    "    Syria10plus = pm.Normal('Syria10plus', mu=Syria_2014_10plus_mean, sd=Syria_2014_10plus_std, observed=Syria_2014_10plus)"
   ]
  },
  {
   "cell_type": "code",
   "execution_count": 197,
   "metadata": {
    "collapsed": true
   },
   "outputs": [],
   "source": [
    "\n",
    "with model:\n",
    "\n",
    "    diff_of_means = pm.Deterministic('difference of means', Iraq_2014_10plus_mean - Syria_2014_10plus_mean)\n",
    "    diff_of_stds = pm.Deterministic('difference of stds', Iraq_2014_10plus_std - Syria_2014_10plus_std)\n",
    "    effect_size = pm.Deterministic('effect size',\n",
    "                                   diff_of_means / np.sqrt((Iraq_2014_10plus_std**2 + Syria_2014_10plus_std**2) / 2))"
   ]
  },
  {
   "cell_type": "code",
   "execution_count": 198,
   "metadata": {
    "collapsed": false
   },
   "outputs": [
    {
     "name": "stderr",
     "output_type": "stream",
     "text": [
      "Auto-assigning NUTS sampler...\n",
      "Initializing NUTS using advi...\n",
      "Average ELBO = -1,498.5: 100%|██████████| 200000/200000 [00:52<00:00, 3815.28it/s]\n",
      "Finished [100%]: Average ELBO = -1,498.5\n",
      "100%|██████████| 25000/25000 [03:36<00:00, 115.69it/s]\n"
     ]
    }
   ],
   "source": [
    "with model:\n",
    "    trace = pm.sample(25000, njobs=4)"
   ]
  },
  {
   "cell_type": "code",
   "execution_count": 199,
   "metadata": {
    "collapsed": false,
    "scrolled": true
   },
   "outputs": [
    {
     "data": {
      "text/plain": [
       "array([<matplotlib.axes._subplots.AxesSubplot object at 0x15d4e0d10>,\n",
       "       <matplotlib.axes._subplots.AxesSubplot object at 0x15d75c190>,\n",
       "       <matplotlib.axes._subplots.AxesSubplot object at 0x149c3e050>,\n",
       "       <matplotlib.axes._subplots.AxesSubplot object at 0x15d8184d0>], dtype=object)"
      ]
     },
     "execution_count": 199,
     "metadata": {},
     "output_type": "execute_result"
    },
    {
     "data": {
      "image/png": "[encoded data removed]",
      "text/plain": [
       "<matplotlib.figure.Figure at 0x149c313d0>"
      ]
     },
     "metadata": {
      "image/png": {
       "height": 353,
       "width": 853
      }
     },
     "output_type": "display_data"
    }
   ],
   "source": [
    "pm.plot_posterior(trace[3000:],\n",
    "                  varnames=['Iraq_2014_10plus_mean', 'Syria_2014_10plus_mean', 'Iraq_2014_10plus_std', 'Syria_2014_10plus_std'],\n",
    "                  color='#87ceeb') #35 and 40, attacks that kill more than 10 people in 2014 kill more people!"
   ]
  },
  {
   "cell_type": "code",
   "execution_count": 201,
   "metadata": {
    "collapsed": false
   },
   "outputs": [
    {
     "data": {
      "text/plain": [
       "array([<matplotlib.axes._subplots.AxesSubplot object at 0x15d862f90>,\n",
       "       <matplotlib.axes._subplots.AxesSubplot object at 0x15b9028d0>], dtype=object)"
      ]
     },
     "execution_count": 201,
     "metadata": {},
     "output_type": "execute_result"
    },
    {
     "data": {
      "image/png": "[encoded data removed]",
      "text/plain": [
       "<matplotlib.figure.Figure at 0x15b88fbd0>"
      ]
     },
     "metadata": {
      "image/png": {
       "height": 173,
       "width": 853
      }
     },
     "output_type": "display_data"
    }
   ],
   "source": [
    "pm.plot_posterior(trace[3000:],\n",
    "                  varnames=['Iraq_2014_10plus_mean', 'Syria_2014_10plus_mean'], color='#87ceeb')"
   ]
  },
  {
   "cell_type": "code",
   "execution_count": null,
   "metadata": {
    "collapsed": false,
    "scrolled": true
   },
   "outputs": [],
   "source": [
    "pm.plot_posterior(trace[3000:],\n",
    "                  varnames=['difference of means', 'difference of stds', 'effect size'],\n",
    "                  ref_val=0,\n",
    "                  color='#87ceeb')"
   ]
  },
  {
   "cell_type": "code",
   "execution_count": null,
   "metadata": {
    "collapsed": false
   },
   "outputs": [],
   "source": [
    "pm.summary(trace[3000:],\n",
    "           varnames=['difference of means', 'difference of stds', 'effect size'])"
   ]
  },
  {
   "cell_type": "code",
   "execution_count": null,
   "metadata": {
    "collapsed": true
   },
   "outputs": [],
   "source": [
    "#The year 1993 is missing from our dataset! Given there is a wealth of information across different types of attacks, \n",
    "#we will focus analysis on `attacktype1` bombings (category 3, as per the codebook)\n"
   ]
  },
  {
   "cell_type": "code",
   "execution_count": 38,
   "metadata": {
    "collapsed": false
   },
   "outputs": [],
   "source": [
    "years_sorted = GTD.iyear.value_counts().sort_index(ascending=True)"
   ]
  },
  {
   "cell_type": "code",
   "execution_count": 39,
   "metadata": {
    "collapsed": false
   },
   "outputs": [
    {
     "data": {
      "text/plain": [
       "1970      651\n",
       "1971      470\n",
       "1972      494\n",
       "1973      473\n",
       "1974      580\n",
       "1975      740\n",
       "1976      923\n",
       "1977     1319\n",
       "1978     1526\n",
       "1979     2661\n",
       "1980     2663\n",
       "1981     2585\n",
       "1982     2545\n",
       "1983     2870\n",
       "1984     3494\n",
       "1985     2915\n",
       "1986     2860\n",
       "1987     3184\n",
       "1988     3721\n",
       "1989     4322\n",
       "1990     3887\n",
       "1991     4683\n",
       "1992     5073\n",
       "1994     3458\n",
       "1995     3081\n",
       "1996     3056\n",
       "1997     3200\n",
       "1998      933\n",
       "1999     1396\n",
       "2000     1813\n",
       "2001     1908\n",
       "2002     1332\n",
       "2003     1262\n",
       "2004     1161\n",
       "2005     2011\n",
       "2006     2751\n",
       "2007     3241\n",
       "2008     4787\n",
       "2009     4721\n",
       "2010     4821\n",
       "2011     5067\n",
       "2012     8498\n",
       "2013    11990\n",
       "2014    16840\n",
       "2015    14806\n",
       "Name: iyear, dtype: int64"
      ]
     },
     "execution_count": 39,
     "metadata": {},
     "output_type": "execute_result"
    }
   ],
   "source": [
    "years_sorted"
   ]
  },
  {
   "cell_type": "code",
   "execution_count": 40,
   "metadata": {
    "collapsed": false
   },
   "outputs": [
    {
     "data": {
      "text/plain": [
       "pandas.core.series.Series"
      ]
     },
     "execution_count": 40,
     "metadata": {},
     "output_type": "execute_result"
    }
   ],
   "source": [
    "type(years_sorted)"
   ]
  },
  {
   "cell_type": "code",
   "execution_count": 41,
   "metadata": {
    "collapsed": false
   },
   "outputs": [],
   "source": [
    "years_sorted.ix[1993] = ('None')"
   ]
  },
  {
   "cell_type": "code",
   "execution_count": 42,
   "metadata": {
    "collapsed": false
   },
   "outputs": [],
   "source": [
    "years_sorted = years_sorted.sort_index(ascending=True)"
   ]
  },
  {
   "cell_type": "code",
   "execution_count": 43,
   "metadata": {
    "collapsed": true
   },
   "outputs": [],
   "source": [
    "import numpy as np\n",
    "x = np.array(years_sorted)"
   ]
  },
  {
   "cell_type": "code",
   "execution_count": 44,
   "metadata": {
    "collapsed": false
   },
   "outputs": [
    {
     "data": {
      "text/plain": [
       "array([651, 470, 494, 473, 580, 740, 923, 1319, 1526, 2661, 2663, 2585,\n",
       "       2545, 2870, 3494, 2915, 2860, 3184, 3721, 4322, 3887, 4683, 5073,\n",
       "       'None', 3458, 3081, 3056, 3200, 933, 1396, 1813, 1908, 1332, 1262,\n",
       "       1161, 2011, 2751, 3241, 4787, 4721, 4821, 5067, 8498, 11990, 16840,\n",
       "       14806], dtype=object)"
      ]
     },
     "execution_count": 44,
     "metadata": {},
     "output_type": "execute_result"
    }
   ],
   "source": [
    "x"
   ]
  },
  {
   "cell_type": "code",
   "execution_count": 60,
   "metadata": {
    "collapsed": false
   },
   "outputs": [
    {
     "name": "stdout",
     "output_type": "stream",
     "text": [
      "4265 attacks\n"
     ]
    }
   ],
   "source": [
    "estimated_attacks_in_1993 = (5073 + 3458) / 2\n",
    "print estimated_attacks_in_1993, \"attacks\""
   ]
  },
  {
   "cell_type": "code",
   "execution_count": 133,
   "metadata": {
    "collapsed": false
   },
   "outputs": [
    {
     "data": {
      "text/plain": [
       "1441.5700000000002"
      ]
     },
     "execution_count": 133,
     "metadata": {},
     "output_type": "execute_result"
    }
   ],
   "source": [
    "4265 * .338"
   ]
  },
  {
   "cell_type": "code",
   "execution_count": 62,
   "metadata": {
    "collapsed": false
   },
   "outputs": [
    {
     "data": {
      "text/plain": [
       "Index([u'eventid', u'iyear', u'imonth', u'iday', u'approxdate', u'extended',\n",
       "       u'resolution', u'country', u'country_txt', u'region',\n",
       "       ...\n",
       "       u'addnotes', u'scite1', u'scite2', u'scite3', u'dbsource', u'INT_LOG',\n",
       "       u'INT_IDEO', u'INT_MISC', u'INT_ANY', u'related'],\n",
       "      dtype='object', length=137)"
      ]
     },
     "execution_count": 62,
     "metadata": {},
     "output_type": "execute_result"
    }
   ],
   "source": [
    "GTD.columns"
   ]
  },
  {
   "cell_type": "code",
   "execution_count": 76,
   "metadata": {
    "collapsed": false
   },
   "outputs": [
    {
     "data": {
      "text/plain": [
       "1970     333\n",
       "1971     238\n",
       "1972     186\n",
       "1973     149\n",
       "1974     284\n",
       "1975     370\n",
       "1976     419\n",
       "1977     635\n",
       "1978     644\n",
       "1979    1057\n",
       "1980     997\n",
       "1981    1082\n",
       "1982    1125\n",
       "1983    1246\n",
       "1984    1775\n",
       "1985    1482\n",
       "1986    1506\n",
       "1987    1476\n",
       "1988    1650\n",
       "1989    1797\n",
       "1990    1731\n",
       "1991    1988\n",
       "1992    1738\n",
       "1994    1153\n",
       "1995     791\n",
       "1996    1217\n",
       "1997    1123\n",
       "1998     504\n",
       "1999     652\n",
       "2000     904\n",
       "2001     802\n",
       "2002     721\n",
       "2003     678\n",
       "2004     655\n",
       "2005    1064\n",
       "2006    1502\n",
       "2007    1865\n",
       "2008    2642\n",
       "2009    2565\n",
       "2010    2507\n",
       "2011    2587\n",
       "2012    5080\n",
       "2013    6669\n",
       "2014    8759\n",
       "2015    7615\n",
       "Name: iyear, dtype: int64"
      ]
     },
     "execution_count": 76,
     "metadata": {},
     "output_type": "execute_result"
    }
   ],
   "source": [
    "GTD[GTD.attacktype1_txt == 'Bombing/Explosion'].iyear.value_counts().sort_index(ascending=True)"
   ]
  },
  {
   "cell_type": "code",
   "execution_count": 128,
   "metadata": {
    "collapsed": false
   },
   "outputs": [],
   "source": [
    "def attacks_by_year(dataframe):\n",
    "    all_attacks = dataframe.groupby('attacktype1_txt').country_txt.value_counts().sum()\n",
    "    print \"countries: \", all_attacks #all countries\n",
    "    print \"bombings per country: \", dataframe[dataframe.attacktype1_txt == 'Bombing/Explosion'].country_txt.value_counts()\n",
    "    print \"bombings: \", len(dataframe[dataframe.attacktype1_txt == 'Bombing/Explosion'])\n",
    "    print \"total attacks: \", len(dataframe.attacktype1_txt.value_counts())"
   ]
  },
  {
   "cell_type": "code",
   "execution_count": 129,
   "metadata": {
    "collapsed": false
   },
   "outputs": [
    {
     "name": "stdout",
     "output_type": "stream",
     "text": [
      "countries:  5073\n",
      "bombings per country:  Colombia                    307\n",
      "Peru                        201\n",
      "United Kingdom              119\n",
      "Turkey                      104\n",
      "France                       91\n",
      "Chile                        89\n",
      "Philippines                  62\n",
      "India                        57\n",
      "Lebanon                      48\n",
      "Spain                        40\n",
      "Algeria                      33\n",
      "South Africa                 32\n",
      "Argentina                    30\n",
      "Bolivia                      29\n",
      "Pakistan                     28\n",
      "Sri Lanka                    27\n",
      "Guatemala                    27\n",
      "Cambodia                     21\n",
      "Panama                       21\n",
      "Georgia                      18\n",
      "Greece                       17\n",
      "Togo                         17\n",
      "Italy                        15\n",
      "Japan                        15\n",
      "Yemen                        14\n",
      "Afghanistan                  13\n",
      "Ecuador                      12\n",
      "Israel                       12\n",
      "West Bank and Gaza Strip     12\n",
      "Thailand                     11\n",
      "Bosnia-Herzegovina           11\n",
      "Iraq                         10\n",
      "Rwanda                       10\n",
      "Egypt                         9\n",
      "Uruguay                       8\n",
      "Venezuela                     8\n",
      "Moldova                       7\n",
      "Iran                          7\n",
      "Nicaragua                     7\n",
      "Kenya                         7\n",
      "Germany                       7\n",
      "Dominican Republic            7\n",
      "Bangladesh                    6\n",
      "Ghana                         6\n",
      "Yugoslavia                    6\n",
      "Russia                        6\n",
      "Haiti                         5\n",
      "El Salvador                   5\n",
      "Cyprus                        5\n",
      "Taiwan                        5\n",
      "Sweden                        4\n",
      "Liberia                       4\n",
      "Angola                        4\n",
      "Brazil                        4\n",
      "Azerbaijan                    3\n",
      "United States                 3\n",
      "Myanmar                       3\n",
      "Ethiopia                      3\n",
      "Croatia                       3\n",
      "Honduras                      2\n",
      "Somalia                       2\n",
      "Madagascar                    2\n",
      "Netherlands                   2\n",
      "Bulgaria                      2\n",
      "Austria                       2\n",
      "Sudan                         2\n",
      "Kuwait                        2\n",
      "China                         2\n",
      "Tajikistan                    2\n",
      "Uganda                        1\n",
      "Nigeria                       1\n",
      "Romania                       1\n",
      "Suriname                      1\n",
      "Mexico                        1\n",
      "Ireland                       1\n",
      "Western Sahara                1\n",
      "Latvia                        1\n",
      "Belgium                       1\n",
      "Finland                       1\n",
      "Poland                        1\n",
      "Sierra Leone                  1\n",
      "Denmark                       1\n",
      "Jordan                        1\n",
      "Ukraine                       1\n",
      "Switzerland                   1\n",
      "Kazakhstan                    1\n",
      "Estonia                       1\n",
      "Zimbabwe                      1\n",
      "Djibouti                      1\n",
      "Mozambique                    1\n",
      "Niger                         1\n",
      "Canada                        1\n",
      "Name: country_txt, dtype: int64\n",
      "bombings:  1738\n",
      "total attacks:  9\n"
     ]
    }
   ],
   "source": [
    "attacks_by_year(nineteenninetytwo) #1738 bombings / 5073 attacks (34.26%)"
   ]
  },
  {
   "cell_type": "code",
   "execution_count": 130,
   "metadata": {
    "collapsed": false
   },
   "outputs": [
    {
     "name": "stdout",
     "output_type": "stream",
     "text": [
      "countries:  3458\n",
      "bombings per country:  Turkey                      141\n",
      "Colombia                     91\n",
      "United Kingdom               90\n",
      "France                       67\n",
      "Peru                         55\n",
      "Bangladesh                   51\n",
      "Guatemala                    51\n",
      "Lebanon                      48\n",
      "India                        42\n",
      "Spain                        33\n",
      "South Africa                 32\n",
      "Greece                       29\n",
      "Iran                         28\n",
      "West Bank and Gaza Strip     22\n",
      "Russia                       22\n",
      "Pakistan                     20\n",
      "Philippines                  19\n",
      "Sri Lanka                    18\n",
      "Thailand                     16\n",
      "Algeria                      13\n",
      "Israel                       13\n",
      "Chile                        12\n",
      "Iraq                         11\n",
      "Tajikistan                   11\n",
      "Egypt                        10\n",
      "Argentina                     9\n",
      "Mexico                        9\n",
      "Cambodia                      9\n",
      "Georgia                       8\n",
      "United States                 8\n",
      "Somalia                       7\n",
      "Venezuela                     6\n",
      "Burundi                       6\n",
      "Estonia                       5\n",
      "Italy                         5\n",
      "Nigeria                       5\n",
      "Dominican Republic            5\n",
      "Austria                       5\n",
      "China                         5\n",
      "Rwanda                        5\n",
      "Bolivia                       5\n",
      "Australia                     4\n",
      "Croatia                       4\n",
      "Nicaragua                     4\n",
      "Afghanistan                   4\n",
      "Ireland                       4\n",
      "Poland                        4\n",
      "Cyprus                        4\n",
      "Haiti                         4\n",
      "Azerbaijan                    4\n",
      "Uganda                        4\n",
      "Benin                         3\n",
      "Angola                        3\n",
      "Sierra Leone                  3\n",
      "El Salvador                   3\n",
      "Armenia                       3\n",
      "Bosnia-Herzegovina            3\n",
      "Myanmar                       3\n",
      "Jordan                        3\n",
      "Togo                          3\n",
      "Ukraine                       3\n",
      "Luxembourg                    3\n",
      "Hungary                       2\n",
      "Panama                        2\n",
      "Ecuador                       2\n",
      "Canada                        2\n",
      "Zaire                         2\n",
      "Honduras                      2\n",
      "Kenya                         1\n",
      "Taiwan                        1\n",
      "Norway                        1\n",
      "Djibouti                      1\n",
      "Namibia                       1\n",
      "Chad                          1\n",
      "Kuwait                        1\n",
      "Indonesia                     1\n",
      "Republic of the Congo         1\n",
      "Germany                       1\n",
      "Bulgaria                      1\n",
      "Cameroon                      1\n",
      "Yemen                         1\n",
      "Vietnam                       1\n",
      "Netherlands                   1\n",
      "Latvia                        1\n",
      "Morocco                       1\n",
      "Moldova                       1\n",
      "Macedonia                     1\n",
      "Finland                       1\n",
      "Albania                       1\n",
      "Name: country_txt, dtype: int64\n",
      "bombings:  1153\n",
      "total attacks:  9\n"
     ]
    }
   ],
   "source": [
    "attacks_by_year(nineteenninetyfour)"
   ]
  },
  {
   "cell_type": "code",
   "execution_count": 131,
   "metadata": {
    "collapsed": false
   },
   "outputs": [
    {
     "name": "stdout",
     "output_type": "stream",
     "text": [
      "countries:  3458\n",
      "bombings per country:  Turkey                      141\n",
      "Colombia                     91\n",
      "United Kingdom               90\n",
      "France                       67\n",
      "Peru                         55\n",
      "Bangladesh                   51\n",
      "Guatemala                    51\n",
      "Lebanon                      48\n",
      "India                        42\n",
      "Spain                        33\n",
      "South Africa                 32\n",
      "Greece                       29\n",
      "Iran                         28\n",
      "West Bank and Gaza Strip     22\n",
      "Russia                       22\n",
      "Pakistan                     20\n",
      "Philippines                  19\n",
      "Sri Lanka                    18\n",
      "Thailand                     16\n",
      "Algeria                      13\n",
      "Israel                       13\n",
      "Chile                        12\n",
      "Iraq                         11\n",
      "Tajikistan                   11\n",
      "Egypt                        10\n",
      "Argentina                     9\n",
      "Mexico                        9\n",
      "Cambodia                      9\n",
      "Georgia                       8\n",
      "United States                 8\n",
      "Somalia                       7\n",
      "Venezuela                     6\n",
      "Burundi                       6\n",
      "Estonia                       5\n",
      "Italy                         5\n",
      "Nigeria                       5\n",
      "Dominican Republic            5\n",
      "Austria                       5\n",
      "China                         5\n",
      "Rwanda                        5\n",
      "Bolivia                       5\n",
      "Australia                     4\n",
      "Croatia                       4\n",
      "Nicaragua                     4\n",
      "Afghanistan                   4\n",
      "Ireland                       4\n",
      "Poland                        4\n",
      "Cyprus                        4\n",
      "Haiti                         4\n",
      "Azerbaijan                    4\n",
      "Uganda                        4\n",
      "Benin                         3\n",
      "Angola                        3\n",
      "Sierra Leone                  3\n",
      "El Salvador                   3\n",
      "Armenia                       3\n",
      "Bosnia-Herzegovina            3\n",
      "Myanmar                       3\n",
      "Jordan                        3\n",
      "Togo                          3\n",
      "Ukraine                       3\n",
      "Luxembourg                    3\n",
      "Hungary                       2\n",
      "Panama                        2\n",
      "Ecuador                       2\n",
      "Canada                        2\n",
      "Zaire                         2\n",
      "Honduras                      2\n",
      "Kenya                         1\n",
      "Taiwan                        1\n",
      "Norway                        1\n",
      "Djibouti                      1\n",
      "Namibia                       1\n",
      "Chad                          1\n",
      "Kuwait                        1\n",
      "Indonesia                     1\n",
      "Republic of the Congo         1\n",
      "Germany                       1\n",
      "Bulgaria                      1\n",
      "Cameroon                      1\n",
      "Yemen                         1\n",
      "Vietnam                       1\n",
      "Netherlands                   1\n",
      "Latvia                        1\n",
      "Morocco                       1\n",
      "Moldova                       1\n",
      "Macedonia                     1\n",
      "Finland                       1\n",
      "Albania                       1\n",
      "Name: country_txt, dtype: int64\n",
      "bombings:  1153\n",
      "total attacks:  9\n"
     ]
    }
   ],
   "source": [
    "attacks_by_year(nineteenninetyfour) #1153 / 3458 #33.34"
   ]
  },
  {
   "cell_type": "code",
   "execution_count": 132,
   "metadata": {
    "collapsed": false
   },
   "outputs": [
    {
     "data": {
      "text/plain": [
       "33.8"
      ]
     },
     "execution_count": 132,
     "metadata": {},
     "output_type": "execute_result"
    }
   ],
   "source": [
    "(33.34 + 34.26) / 2 #% bombings in 1993"
   ]
  },
  {
   "cell_type": "code",
   "execution_count": 135,
   "metadata": {
    "collapsed": false
   },
   "outputs": [],
   "source": [
    "# 1442 predicted attacks, see math above."
   ]
  },
  {
   "cell_type": "code",
   "execution_count": null,
   "metadata": {
    "collapsed": true
   },
   "outputs": [],
   "source": []
  }
 ],
 "metadata": {
  "kernelspec": {
   "display_name": "Python 2",
   "language": "python",
   "name": "python2"
  },
  "language_info": {
   "codemirror_mode": {
    "name": "ipython",
    "version": 2
   },
   "file_extension": ".py",
   "mimetype": "text/x-python",
   "name": "python",
   "nbconvert_exporter": "python",
   "pygments_lexer": "ipython2",
   "version": "2.7.13"
  }
 },
 "nbformat": 4,
 "nbformat_minor": 2
}
